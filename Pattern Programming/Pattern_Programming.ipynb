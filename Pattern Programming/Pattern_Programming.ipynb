{
 "cells": [
  {
   "cell_type": "code",
   "execution_count": 3,
   "metadata": {},
   "outputs": [
    {
     "name": "stdout",
     "output_type": "stream",
     "text": [
      "**********\n",
      "**********\n",
      "**********\n",
      "**********\n",
      "**********\n",
      "**********\n",
      "**********\n",
      "**********\n",
      "**********\n",
      "**********\n"
     ]
    }
   ],
   "source": [
    "n=int(input(\"Enter the number of rows: \")) \n",
    "for i in range(1,n+1): \n",
    "    print(\"*\"* n)\n"
   ]
  },
  {
   "cell_type": "markdown",
   "metadata": {},
   "source": [
    "## Pattern-2: \n",
    "1 1 1 1 1 1 1 1 1 1 <br>\n",
    "2 2 2 2 2 2 2 2 2 2 <br>\n",
    "3 3 3 3 3 3 3 3 3 3 <br>\n",
    "4 4 4 4 4 4 4 4 4 4 <br>\n",
    "5 5 5 5 5 5 5 5 5 5 <br>\n",
    "6 6 6 6 6 6 6 6 6 6 <br>\n",
    "7 7 7 7 7 7 7 7 7 7 <br>\n",
    "8 8 8 8 8 8 8 8 8 8 <br>\n",
    "9 9 9 9 9 9 9 9 9 9 <br>\n",
    "10 10 10 10 10 10 10 10 10 10\n"
   ]
  },
  {
   "cell_type": "code",
   "execution_count": 23,
   "metadata": {},
   "outputs": [
    {
     "name": "stdout",
     "output_type": "stream",
     "text": [
      "1111111111\n",
      "2222222222\n",
      "3333333333\n",
      "4444444444\n",
      "5555555555\n",
      "6666666666\n",
      "7777777777\n",
      "8888888888\n",
      "9999999999\n",
      "10101010101010101010\n"
     ]
    }
   ],
   "source": [
    "n = int(input(\"Enter The NUmber of rows\"))\n",
    "for i in range(1 , n+1):\n",
    "    for j in range(1 , n+1):\n",
    "        print(i,end=\"\")\n",
    "    print()"
   ]
  },
  {
   "cell_type": "markdown",
   "metadata": {},
   "source": [
    "# Pattern-3: \n",
    "1 2 3 4 5 6 7 8 9 10 <br>\n",
    "1 2 3 4 5 6 7 8 9 10 <br>\n",
    "1 2 3 4 5 6 7 8 9 10 <br>\n",
    "1 2 3 4 5 6 7 8 9 10 <br>\n",
    "1 2 3 4 5 6 7 8 9 10 <br>\n",
    "1 2 3 4 5 6 7 8 9 10 <br>\n",
    "1 2 3 4 5 6 7 8 9 10 <br>\n",
    "1 2 3 4 5 6 7 8 9 10 <br>\n",
    "1 2 3 4 5 6 7 8 9 10 <br>\n",
    "1 2 3 4 5 6 7 8 9 10 <br>\n"
   ]
  },
  {
   "cell_type": "code",
   "execution_count": 24,
   "metadata": {},
   "outputs": [
    {
     "name": "stdout",
     "output_type": "stream",
     "text": [
      "12345678910\n",
      "12345678910\n",
      "12345678910\n",
      "12345678910\n",
      "12345678910\n",
      "12345678910\n",
      "12345678910\n",
      "12345678910\n",
      "12345678910\n",
      "12345678910\n"
     ]
    }
   ],
   "source": [
    "n = int(input(\"Enter The NUmber of rows\"))\n",
    "for i in range(1 , n+1):\n",
    "    for j in range(1 , n+1):\n",
    "        print(j,end=\"\")\n",
    "    print()"
   ]
  },
  {
   "cell_type": "markdown",
   "metadata": {},
   "source": [
    "# Pattern-4: \n",
    "A A A A A A A A A A <br>\n",
    "B B B B B B B B B B <br>\n",
    "C C C C C C C C C C <br>\n",
    "D D D D D D D D D D <br>\n",
    "E E E E E E E E E E <br>\n",
    "F F F F F F F F F F <br>\n",
    "G G G G G G G G G G <br>\n",
    "H H H H H H H H H H <br>\n",
    "I I I I I I I I I I <br>\n",
    "J J J J J J J J J J <br>\n"
   ]
  },
  {
   "cell_type": "code",
   "execution_count": 6,
   "metadata": {},
   "outputs": [
    {
     "name": "stdout",
     "output_type": "stream",
     "text": [
      "AAAAAAAAAA\n",
      "BBBBBBBBBB\n",
      "CCCCCCCCCC\n",
      "DDDDDDDDDD\n",
      "EEEEEEEEEE\n",
      "FFFFFFFFFF\n",
      "GGGGGGGGGG\n",
      "HHHHHHHHHH\n",
      "IIIIIIIIII\n",
      "JJJJJJJJJJ\n"
     ]
    }
   ],
   "source": [
    "n = int(input(\"Enter The NUmber of rows\"))\n",
    "for i in range(1 , n+1):\n",
    "    for j in range(1 , n+1):\n",
    "        print(chr(64+i),end=\"\")\n",
    "    print()"
   ]
  },
  {
   "cell_type": "markdown",
   "metadata": {},
   "source": [
    "# Pattern-5: \n",
    "A B C D E F G H I J <br>\n",
    "A B C D E F G H I J <br>\n",
    "A B C D E F G H I J <br>\n",
    "A B C D E F G H I J <br>\n",
    "A B C D E F G H I J <br>\n",
    "A B C D E F G H I J <br>\n",
    "A B C D E F G H I J <br>\n",
    "A B C D E F G H I J <br>\n",
    "A B C D E F G H I J <br>\n",
    "A B C D E F G H I J <br>"
   ]
  },
  {
   "cell_type": "code",
   "execution_count": 8,
   "metadata": {},
   "outputs": [
    {
     "name": "stdout",
     "output_type": "stream",
     "text": [
      "ABCDEFGHIJ\n",
      "ABCDEFGHIJ\n",
      "ABCDEFGHIJ\n",
      "ABCDEFGHIJ\n",
      "ABCDEFGHIJ\n",
      "ABCDEFGHIJ\n",
      "ABCDEFGHIJ\n",
      "ABCDEFGHIJ\n",
      "ABCDEFGHIJ\n",
      "ABCDEFGHIJ\n"
     ]
    }
   ],
   "source": [
    "n = int(input(\"Enter The NUmber of rows\"))\n",
    "for i in range(1 , n+1):\n",
    "    for j in range(1 , n+1):\n",
    "        print(chr(64+j),end=\"\")\n",
    "    print()"
   ]
  },
  {
   "cell_type": "markdown",
   "metadata": {},
   "source": [
    "# Pattern-6: \n",
    "10 10 10 10 10 10 10 10 10 10 <br>\n",
    "9 9 9 9 9 9 9 9 9 9 <br>\n",
    "8 8 8 8 8 8 8 8 8 8<br>\n",
    "7 7 7 7 7 7 7 7 7 7<br>\n",
    "6 6 6 6 6 6 6 6 6 6 <br>\n",
    "5 5 5 5 5 5 5 5 5 5 <br>\n",
    "4 4 4 4 4 4 4 4 4 4 <br>\n",
    "3 3 3 3 3 3 3 3 3 3 <br>\n",
    "2 2 2 2 2 2 2 2 2 2 <br>\n",
    "1 1 1 1 1 1 1 1 1 1 <br>"
   ]
  },
  {
   "cell_type": "code",
   "execution_count": 14,
   "metadata": {},
   "outputs": [
    {
     "name": "stdout",
     "output_type": "stream",
     "text": [
      "10101010101010101010\n",
      "9999999999\n",
      "8888888888\n",
      "7777777777\n",
      "6666666666\n",
      "5555555555\n",
      "4444444444\n",
      "3333333333\n",
      "2222222222\n",
      "1111111111\n"
     ]
    }
   ],
   "source": [
    "n = int(input(\"Enter The NUmber of rows\"))\n",
    "for i in range(1 , n+1):\n",
    "    for j in range(1 , n+1):\n",
    "        print(n + 1 -i ,end=\"\")\n",
    "    print()"
   ]
  },
  {
   "cell_type": "markdown",
   "metadata": {},
   "source": [
    "# Pattern-6:\n",
    "10 9 8 7 6 5 4 3 2 1 <br>\n",
    "10 9 8 7 6 5 4 3 2 1 <br>\n",
    "10 9 8 7 6 5 4 3 2 1 <br>\n",
    "10 9 8 7 6 5 4 3 2 1 <br>\n",
    "10 9 8 7 6 5 4 3 2 1 <br>\n",
    "10 9 8 7 6 5 4 3 2 1 <br>\n",
    "10 9 8 7 6 5 4 3 2 1 <br>\n",
    "10 9 8 7 6 5 4 3 2 1 <br>\n",
    "10 9 8 7 6 5 4 3 2 1 <br>\n",
    "10 9 8 7 6 5 4 3 2 1 <br>"
   ]
  },
  {
   "cell_type": "code",
   "execution_count": 15,
   "metadata": {},
   "outputs": [
    {
     "name": "stdout",
     "output_type": "stream",
     "text": [
      "10987654321\n",
      "10987654321\n",
      "10987654321\n",
      "10987654321\n",
      "10987654321\n",
      "10987654321\n",
      "10987654321\n",
      "10987654321\n",
      "10987654321\n",
      "10987654321\n"
     ]
    }
   ],
   "source": [
    "n = int(input(\"Enter The NUmber of rows\"))\n",
    "for i in range(1 , n+1):\n",
    "    for j in range(1 , n+1):\n",
    "        print(n + 1 -j ,end=\"\")\n",
    "    print()"
   ]
  },
  {
   "cell_type": "markdown",
   "metadata": {},
   "source": [
    "# Pattern-7:\n",
    "J J J J J J J J J J <br>\n",
    "I I I I I I I I I I <br>\n",
    "H H H H H H H H H H <br>\n",
    "G G G G G G G G G G <br>\n",
    "F F F F F F F F F F <br>\n",
    "E E E E E E E E E E <br>\n",
    "D D D D D D D D D D <br>\n",
    "C C C C C C C C C C <br>\n",
    "B B B B B B B B B B <br>\n",
    "A A A A A A A A A A <br>"
   ]
  },
  {
   "cell_type": "code",
   "execution_count": 18,
   "metadata": {},
   "outputs": [
    {
     "name": "stdout",
     "output_type": "stream",
     "text": [
      "JJJJJJJJJJ\n",
      "IIIIIIIIII\n",
      "HHHHHHHHHH\n",
      "GGGGGGGGGG\n",
      "FFFFFFFFFF\n",
      "EEEEEEEEEE\n",
      "DDDDDDDDDD\n",
      "CCCCCCCCCC\n",
      "BBBBBBBBBB\n",
      "AAAAAAAAAA\n"
     ]
    }
   ],
   "source": [
    "n = int(input(\"Enter The NUmber of rows\"))\n",
    "for i in range(1 , n+1):\n",
    "    for j in range(1 , n+1):\n",
    "        print(chr (65 + n -i) ,end=\"\")\n",
    "    print()"
   ]
  },
  {
   "cell_type": "markdown",
   "metadata": {},
   "source": [
    "# Pattern-8:\n",
    "J I H G F E D C B A <br>\n",
    "J I H G F E D C B A <br>\n",
    "J I H G F E D C B A <br>\n",
    "J I H G F E D C B A <br>\n",
    "J I H G F E D C B A <br>\n",
    "J I H G F E D C B A <br>\n",
    "J I H G F E D C B A <br>\n",
    "J I H G F E D C B A <br>\n",
    "J I H G F E D C B A <br>\n",
    "J I H G F E D C B A <br>"
   ]
  },
  {
   "cell_type": "code",
   "execution_count": 19,
   "metadata": {},
   "outputs": [
    {
     "name": "stdout",
     "output_type": "stream",
     "text": [
      "JIHGFEDCBA\n",
      "JIHGFEDCBA\n",
      "JIHGFEDCBA\n",
      "JIHGFEDCBA\n",
      "JIHGFEDCBA\n",
      "JIHGFEDCBA\n",
      "JIHGFEDCBA\n",
      "JIHGFEDCBA\n",
      "JIHGFEDCBA\n",
      "JIHGFEDCBA\n"
     ]
    }
   ],
   "source": [
    "n = int(input(\"Enter The NUmber of rows\"))\n",
    "for i in range(1 , n+1):\n",
    "    for j in range(1 , n+1):\n",
    "        print(chr (65 + n -j) ,end=\"\")\n",
    "    print()"
   ]
  },
  {
   "cell_type": "markdown",
   "metadata": {},
   "source": [
    "# Pattern 9 "
   ]
  },
  {
   "cell_type": "code",
   "execution_count": 25,
   "metadata": {},
   "outputs": [
    {
     "name": "stdout",
     "output_type": "stream",
     "text": [
      "*\n",
      "**\n",
      "***\n",
      "****\n",
      "*****\n",
      "******\n",
      "*******\n",
      "********\n",
      "*********\n",
      "**********\n"
     ]
    }
   ],
   "source": [
    "# Code 1\n",
    "n = int(input(\"Enter The NUmber of rows\"))\n",
    "for i in range(1 , n+1):\n",
    "    for j in range(1 , i+1):\n",
    "        print (\"*\" ,end=\"\") \n",
    "    print()"
   ]
  },
  {
   "cell_type": "code",
   "execution_count": 27,
   "metadata": {},
   "outputs": [
    {
     "name": "stdout",
     "output_type": "stream",
     "text": [
      "*\n",
      "**\n",
      "***\n",
      "****\n",
      "*****\n",
      "******\n",
      "*******\n",
      "********\n",
      "*********\n",
      "**********\n"
     ]
    }
   ],
   "source": [
    "# Code 2\n",
    "n=int(input(\"Enter the number of rows: \")) \n",
    "for i in range(1,n+1): \n",
    "    print(\"*\"* i)"
   ]
  },
  {
   "cell_type": "markdown",
   "metadata": {},
   "source": [
    "# Pattern-10:\n",
    "1 <br>\n",
    "2 2 <br>\n",
    "3 3 3 <br>\n",
    "4 4 4 4 <br>\n",
    "5 5 5 5 5 <br>\n",
    "6 6 6 6 6 6 <br>\n",
    "7 7 7 7 7 7 7 <br>\n",
    "8 8 8 8 8 8 8 8 <br>\n",
    "9 9 9 9 9 9 9 9 9 <br>\n",
    "10 10 10 10 10 10 10 10 10 10 <br>"
   ]
  },
  {
   "cell_type": "code",
   "execution_count": 28,
   "metadata": {},
   "outputs": [
    {
     "name": "stdout",
     "output_type": "stream",
     "text": [
      "1\n",
      "22\n",
      "333\n",
      "4444\n",
      "55555\n",
      "666666\n",
      "7777777\n",
      "88888888\n",
      "999999999\n",
      "10101010101010101010\n"
     ]
    }
   ],
   "source": [
    "n = int(input(\"Enter The NUmber of rows\"))\n",
    "for i in range(1 , n+1):\n",
    "    for j in range(1 , i+1):\n",
    "        print (i ,end=\"\") \n",
    "    print()"
   ]
  },
  {
   "cell_type": "code",
   "execution_count": null,
   "metadata": {},
   "outputs": [],
   "source": []
  }
 ],
 "metadata": {
  "kernelspec": {
   "display_name": "base",
   "language": "python",
   "name": "python3"
  },
  "language_info": {
   "codemirror_mode": {
    "name": "ipython",
    "version": 3
   },
   "file_extension": ".py",
   "mimetype": "text/x-python",
   "name": "python",
   "nbconvert_exporter": "python",
   "pygments_lexer": "ipython3",
   "version": "3.10.9"
  },
  "orig_nbformat": 4
 },
 "nbformat": 4,
 "nbformat_minor": 2
}
