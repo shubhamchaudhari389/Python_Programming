{
 "cells": [
  {
   "cell_type": "markdown",
   "metadata": {},
   "source": [
    "# <center> Input And Output Statements </center>\n"
   ]
  },
  {
   "cell_type": "markdown",
   "metadata": {},
   "source": [
    "# **Reading dynamic input from the keyboard:**\n",
    "In Python 2 the following 2 functions are available to read dynamic input from the\n",
    "keyboard.\n",
    " 1. raw_input()\n",
    " 2. input()\n",
    "\n"
   ]
  },
  {
   "cell_type": "markdown",
   "metadata": {},
   "source": [
    "**# 1. raw_input():**\n",
    " This function always reads the data from the keyboard in the form of String Format. We\n",
    "have to convert that string type to our required type by using the corresponding type\n",
    "casting methods.\n",
    "\n",
    "> x=raw_input(\"Enter First Number:\")<br>\n",
    "> print(type(x)) <br>\n",
    "It will always print str type only for any input type<br>"
   ]
  },
  {
   "cell_type": "markdown",
   "metadata": {},
   "source": [
    "# 2. input(): <br>\n",
    "input() function can be used to read data directly in our required format.We are not\n",
    "required to perform type casting."
   ]
  },
  {
   "cell_type": "code",
   "execution_count": 3,
   "metadata": {},
   "outputs": [
    {
     "data": {
      "text/plain": [
       "str"
      ]
     },
     "execution_count": 3,
     "metadata": {},
     "output_type": "execute_result"
    }
   ],
   "source": [
    "x=input(\"Enter Value\")\n",
    "type(x)"
   ]
  },
  {
   "cell_type": "markdown",
   "metadata": {},
   "source": [
    "Note: But in Python 3 we have only input() method and raw_input() method is not available.\n",
    "\n",
    "Python3 input() function behaviour exactly same as raw_input() method of Python2. i.e\n",
    "every input value is treated as str type only.\n",
    "\n",
    "raw_input() function of Python 2 is renamed as input() function in Python3"
   ]
  },
  {
   "cell_type": "code",
   "execution_count": 4,
   "metadata": {},
   "outputs": [
    {
     "data": {
      "text/plain": [
       "str"
      ]
     },
     "execution_count": 4,
     "metadata": {},
     "output_type": "execute_result"
    }
   ],
   "source": [
    "type(input(\"Enter value:\"))\n",
    "\n",
    "# 5\n"
   ]
  },
  {
   "cell_type": "markdown",
   "metadata": {},
   "source": [
    "**Q. Write a program to read 2 numbers from the keyboard and print sum.**"
   ]
  },
  {
   "cell_type": "code",
   "execution_count": 5,
   "metadata": {},
   "outputs": [
    {
     "name": "stdout",
     "output_type": "stream",
     "text": [
      "The Sum: 13\n"
     ]
    }
   ],
   "source": [
    "x=input(\"Enter First Number:\")\n",
    "y=input(\"Enter Second Number:\")\n",
    "i = int(x) # 6\n",
    "j = int(y) # 7\n",
    "print(\"The Sum:\",i+j) \n",
    "#"
   ]
  },
  {
   "cell_type": "code",
   "execution_count": 8,
   "metadata": {},
   "outputs": [
    {
     "name": "stdout",
     "output_type": "stream",
     "text": [
      "The Sum: 7\n"
     ]
    }
   ],
   "source": [
    "x=int(input(\"Enter First Number:\")) # 2\n",
    "y=int(input(\"Enter Second Number:\")) # 5\n",
    "print(\"The Sum:\",x+y) "
   ]
  },
  {
   "cell_type": "code",
   "execution_count": null,
   "metadata": {},
   "outputs": [
    {
     "name": "stdout",
     "output_type": "stream",
     "text": [
      "The Sum: 112\n"
     ]
    }
   ],
   "source": [
    "print(\"The Sum:\",int(input(\"Enter First Number:\"))+int(input(\"Enter Second Number:\"))) "
   ]
  },
  {
   "cell_type": "markdown",
   "metadata": {},
   "source": [
    "**Q. Write a program to read Employee data from the keyboard and print that data.**\n"
   ]
  },
  {
   "cell_type": "code",
   "execution_count": 9,
   "metadata": {},
   "outputs": [
    {
     "name": "stdout",
     "output_type": "stream",
     "text": [
      "Please Confirm Information\n",
      "Employee No : 100\n",
      "Employee Name : Shubham\n",
      "Employee Salary : 200.0\n",
      "Employee Address : mumbasi\n",
      "Employee Married ? : True\n"
     ]
    }
   ],
   "source": [
    "eno=int(input(\"Enter Employee No:\")) # 100\n",
    "ename=input(\"Enter Employee Name:\") # Shubham\n",
    "esal=float(input(\"Enter Employee Salary:\")) # 20000\n",
    "eaddr=input(\"Enter Employee Address:\") # mumbai\n",
    "married=bool(input(\"Employee Married ?[True|False]:\")) # True\n",
    "print(\"Please Confirm Information\")\n",
    "print(\"Employee No :\",eno)\n",
    "print(\"Employee Name :\",ename)\n",
    "print(\"Employee Salary :\",esal)\n",
    "print(\"Employee Address :\",eaddr)\n",
    "print(\"Employee Married ? :\",married) "
   ]
  },
  {
   "cell_type": "markdown",
   "metadata": {},
   "source": [
    "How to read multiple values from the keyboard in a single line:"
   ]
  },
  {
   "cell_type": "code",
   "execution_count": 13,
   "metadata": {},
   "outputs": [
    {
     "name": "stdout",
     "output_type": "stream",
     "text": [
      "Product is : 100\n"
     ]
    }
   ],
   "source": [
    "a,b= [int(x) for x in input(\"Enter 2 numbers :\").split()] # 10 20\n",
    "print(\"Product is :\", a*b) "
   ]
  },
  {
   "cell_type": "markdown",
   "metadata": {},
   "source": [
    "Note: split() function can take space as seperator by default .But we can pass\n",
    "anything as seperator."
   ]
  },
  {
   "cell_type": "markdown",
   "metadata": {},
   "source": [
    "Q. Write a program to read 3 float numbers from the keyboard with , seperator and print\n",
    "their sum."
   ]
  },
  {
   "cell_type": "code",
   "execution_count": 15,
   "metadata": {},
   "outputs": [
    {
     "name": "stdout",
     "output_type": "stream",
     "text": [
      "The Sum is : 53.0\n"
     ]
    }
   ],
   "source": [
    "a,b,c= [float(x) for x in input(\"Enter 3 float numbers :\").split(',')] # 10,20,30\n",
    "print(\"The Sum is :\", a+b+c)  "
   ]
  },
  {
   "cell_type": "markdown",
   "metadata": {},
   "source": [
    "**eval():** <br>\n",
    "eval Function take a String and evaluate the Result.\n",
    "\n",
    "Eg: x = eval(“10+20+30”)\n",
    " print(x)\n",
    " Output: 60\n",
    "Eg: x = eval(input(“Enter Expression”))\n",
    " Enter Expression: 10+2*3/4\n",
    " Output11.5\n",
    "\n",
    " eval() can evaluate the Input to list, tuple, set, etc based the provided Input.\n"
   ]
  },
  {
   "cell_type": "code",
   "execution_count": 16,
   "metadata": {},
   "outputs": [
    {
     "name": "stdout",
     "output_type": "stream",
     "text": [
      "<class 'float'>\n",
      "11.5\n"
     ]
    }
   ],
   "source": [
    "# Eg: Write a Program to accept list from the keynboard on the display\n",
    "l = eval(input('Enter List')) # 10+2*3/4\n",
    "print (type(l))\n",
    "print(l) "
   ]
  },
  {
   "cell_type": "markdown",
   "metadata": {},
   "source": [
    "**Command Line Arguments**\n",
    "\n",
    "- argv is not Array it is a List. It is available sys Module.\n",
    "- The Argument which are passing at the time of execution are called Command Line Arguments.\n",
    "\n",
    "Eg: D:\\Python_classes py test.py 10 20 30\n",
    " Command Line Arguments\n",
    "\n",
    "Within the Python Program this Command Line Arguments are available in argv. Which is present in SYS Module.\n",
    "\n",
    "Note: argv[0] represents Name of Program. But not first Command Line Argument.\n",
    "\n",
    "argv[1] represent First Command Line Argument.\n",
    "\n",
    "Program: To check type of argv from sys\n",
    "\n",
    "import argv\n",
    "print(type(argv))\n",
    "\n",
    "D:\\Python_classes\\py test.py\n"
   ]
  },
  {
   "cell_type": "code",
   "execution_count": 18,
   "metadata": {},
   "outputs": [
    {
     "name": "stdout",
     "output_type": "stream",
     "text": [
      "The Number of Command Line Arguments: 11\n",
      "The List of Command Line Arguments: ['c:\\\\Users\\\\Shubham\\\\anaconda3\\\\lib\\\\site-packages\\\\ipykernel_launcher.py', '--ip=127.0.0.1', '--stdin=9003', '--control=9001', '--hb=9000', '--Session.signature_scheme=\"hmac-sha256\"', '--Session.key=b\"828d3c93-aa9f-40cc-9161-37562bc7f620\"', '--shell=9002', '--transport=\"tcp\"', '--iopub=9004', '--f=c:\\\\Users\\\\Shubham\\\\AppData\\\\Roaming\\\\jupyter\\\\runtime\\\\kernel-v2-14828RuBN0GKSVdlW.json']\n",
      "Command Line Arguments one by one:\n",
      "c:\\Users\\Shubham\\anaconda3\\lib\\site-packages\\ipykernel_launcher.py\n",
      "--ip=127.0.0.1\n",
      "--stdin=9003\n",
      "--control=9001\n",
      "--hb=9000\n",
      "--Session.signature_scheme=\"hmac-sha256\"\n",
      "--Session.key=b\"828d3c93-aa9f-40cc-9161-37562bc7f620\"\n",
      "--shell=9002\n",
      "--transport=\"tcp\"\n",
      "--iopub=9004\n",
      "--f=c:\\Users\\Shubham\\AppData\\Roaming\\jupyter\\runtime\\kernel-v2-14828RuBN0GKSVdlW.json\n"
     ]
    }
   ],
   "source": [
    "# Write a Program to display Command Line Arguments\n",
    "from sys import argv\n",
    "print('The Number of Command Line Arguments:', len(argv))\n",
    "print('The List of Command Line Arguments:', argv)\n",
    "print('Command Line Arguments one by one:')\n",
    "for x in argv:\n",
    "    print(x) "
   ]
  },
  {
   "cell_type": "code",
   "execution_count": 21,
   "metadata": {},
   "outputs": [
    {
     "name": "stdout",
     "output_type": "stream",
     "text": [
      "Skipping non-numeric argument: --ip=127.0.0.1\n",
      "Skipping non-numeric argument: --stdin=9003\n",
      "Skipping non-numeric argument: --control=9001\n",
      "Skipping non-numeric argument: --hb=9000\n",
      "Skipping non-numeric argument: --Session.signature_scheme=\"hmac-sha256\"\n",
      "Skipping non-numeric argument: --Session.key=b\"828d3c93-aa9f-40cc-9161-37562bc7f620\"\n",
      "Skipping non-numeric argument: --shell=9002\n",
      "Skipping non-numeric argument: --transport=\"tcp\"\n",
      "Skipping non-numeric argument: --iopub=9004\n",
      "Skipping non-numeric argument: --f=c:\\Users\\Shubham\\AppData\\Roaming\\jupyter\\runtime\\kernel-v2-14828RuBN0GKSVdlW.json\n",
      "The Sum: 0\n"
     ]
    }
   ],
   "source": [
    "from sys import argv\n",
    "\n",
    "# Initialize the sum\n",
    "sum = 0\n",
    "\n",
    "# Get the command-line arguments (excluding the script name)\n",
    "args = argv[1:]\n",
    "\n",
    "# Loop through the arguments\n",
    "for x in args:\n",
    "    try:\n",
    "        n = int(x)  # Try to convert to an integer\n",
    "        sum += n     # Add the integer to the sum\n",
    "    except ValueError:\n",
    "        print(f\"Skipping non-numeric argument: {x}\")\n",
    "\n",
    "# Print the sum\n",
    "print(\"The Sum:\", sum)\n"
   ]
  },
  {
   "cell_type": "markdown",
   "metadata": {},
   "source": [
    "Note1: usually space is seperator between command line arguments. If our command line\n",
    "argument itself contains space then we should enclose within double quotes(but not\n",
    "single quotes)\n"
   ]
  },
  {
   "cell_type": "code",
   "execution_count": 22,
   "metadata": {},
   "outputs": [
    {
     "name": "stdout",
     "output_type": "stream",
     "text": [
      "--ip=127.0.0.1\n"
     ]
    }
   ],
   "source": [
    "from sys import argv\n",
    "print(argv[1]) "
   ]
  },
  {
   "cell_type": "markdown",
   "metadata": {},
   "source": [
    "Note2: Within the Python program command line arguments are available in the String\n",
    "form. Based on our requirement,we can convert into corresponding type by using type\n",
    "casting methods."
   ]
  },
  {
   "cell_type": "code",
   "execution_count": 24,
   "metadata": {},
   "outputs": [
    {
     "name": "stdout",
     "output_type": "stream",
     "text": [
      "Invalid integer argument provided.\n"
     ]
    }
   ],
   "source": [
    "from sys import argv\n",
    "\n",
    "# Check if there are at least two command-line arguments\n",
    "if len(argv) >= 3:\n",
    "    try:\n",
    "        arg1 = int(argv[1])\n",
    "        arg2 = int(argv[2])\n",
    "        \n",
    "        print(arg1 + arg2)  # Addition of two integers\n",
    "        print(arg1 + arg2)  # Addition of two integers\n",
    "    except ValueError:\n",
    "        print(\"Invalid integer argument provided.\")\n",
    "else:\n",
    "    print(\"Please provide at least two integer arguments.\")\n"
   ]
  },
  {
   "cell_type": "markdown",
   "metadata": {},
   "source": [
    "**output statements:**\n",
    "\n",
    "We can use print() function to display output.\n",
    "\n",
    "**Form-1:** print() without any argument\n",
    "Just it prints new line character\n",
    "\n"
   ]
  },
  {
   "cell_type": "code",
   "execution_count": 26,
   "metadata": {},
   "outputs": [
    {
     "name": "stdout",
     "output_type": "stream",
     "text": [
      "Hello World\n",
      "Hello \n",
      " World\n",
      "Hello\tWorld\n",
      "HelloHelloHelloHelloHelloHelloHelloHelloHelloHello\n",
      "HelloHelloHelloHelloHelloHelloHelloHelloHelloHello\n",
      "HelloWorld\n"
     ]
    }
   ],
   "source": [
    "# Form-2:\n",
    "# Removed \":\"\n",
    "print(\"Hello World\")\n",
    "\n",
    "# We can use escape characters also\n",
    "print(\"Hello \\n World\")\n",
    "print(\"Hello\\tWorld\")\n",
    "\n",
    "# We can use the repetition operator (*) in the string\n",
    "print(10 * \"Hello\")\n",
    "print(\"Hello\" * 10)\n",
    "\n",
    "# We can use the + operator also\n",
    "print(\"Hello\" + \"World\")\n"
   ]
  },
  {
   "cell_type": "markdown",
   "metadata": {},
   "source": [
    "Note:\n",
    "If both arguments are String type then + operator acts as concatenation operator.\n",
    "\n",
    "If one argument is string type and second is any other type like int then we will get Error\n",
    "\n",
    "If both arguments are number type then + operator acts as arithmetic addition operator.\n",
    "\n"
   ]
  },
  {
   "cell_type": "code",
   "execution_count": 27,
   "metadata": {},
   "outputs": [
    {
     "name": "stdout",
     "output_type": "stream",
     "text": [
      "HelloWorld\n",
      "Hello World\n"
     ]
    }
   ],
   "source": [
    "#Note:\n",
    "print(\"Hello\"+\"World\")\n",
    "print(\"Hello\",\"World\")"
   ]
  },
  {
   "cell_type": "code",
   "execution_count": 28,
   "metadata": {},
   "outputs": [
    {
     "name": "stdout",
     "output_type": "stream",
     "text": [
      "The Values are : 10 20 30\n"
     ]
    }
   ],
   "source": [
    "#Form-3: print() with variable number of arguments:\n",
    "a,b,c=10,20,30\n",
    "print(\"The Values are :\",a,b,c) "
   ]
  },
  {
   "cell_type": "markdown",
   "metadata": {},
   "source": [
    "By default output values are seperated by space.If we want we can specify seperator by using \"sep\" attribute"
   ]
  },
  {
   "cell_type": "code",
   "execution_count": 29,
   "metadata": {},
   "outputs": [
    {
     "name": "stdout",
     "output_type": "stream",
     "text": [
      "10,20,30\n",
      "10:20:30\n"
     ]
    }
   ],
   "source": [
    "a,b,c=10,20,30\n",
    "print(a,b,c,sep=',')\n",
    "print(a,b,c,sep=':') "
   ]
  },
  {
   "cell_type": "code",
   "execution_count": 31,
   "metadata": {},
   "outputs": [
    {
     "name": "stdout",
     "output_type": "stream",
     "text": [
      "Hello\n",
      "Rahul\n",
      "Tiwari\n"
     ]
    }
   ],
   "source": [
    "#Form-4:print() with end attribute:\n",
    "\n",
    "print(\"Hello\")\n",
    "print(\"Rahul\")\n",
    "print(\"Tiwari\") "
   ]
  },
  {
   "cell_type": "code",
   "execution_count": 33,
   "metadata": {},
   "outputs": [
    {
     "name": "stdout",
     "output_type": "stream",
     "text": [
      "Hello Rahul Tiwari\n"
     ]
    }
   ],
   "source": [
    "#If we want output in the same line with space\n",
    "\n",
    "print(\"Hello\",end=' ')\n",
    "print(\"Rahul\",end=' ')\n",
    "print(\"Tiwari\") "
   ]
  },
  {
   "cell_type": "markdown",
   "metadata": {},
   "source": [
    "Note: The default value for end attribute is \\n,which is nothing but new line character."
   ]
  },
  {
   "cell_type": "markdown",
   "metadata": {},
   "source": [
    "**Form-5: print(object) statement:** <br>\n",
    "\n",
    "We can pass any object (like list,tuple,set etc)as argument to the print() statement. "
   ]
  },
  {
   "cell_type": "code",
   "execution_count": 41,
   "metadata": {},
   "outputs": [
    {
     "name": "stdout",
     "output_type": "stream",
     "text": [
      "[10, 20, 30, 40]\n",
      "(10, 20, 30, 40)\n"
     ]
    }
   ],
   "source": [
    "l=[10,20,30,40]\n",
    "t=(10,20,30,40)\n",
    "print(l)\n",
    "print(t) "
   ]
  },
  {
   "cell_type": "markdown",
   "metadata": {},
   "source": [
    "**Form-6: print(String,variable list):**<br>\n",
    "We can use print() statement with String and any number of arguments"
   ]
  },
  {
   "cell_type": "code",
   "execution_count": 40,
   "metadata": {},
   "outputs": [
    {
     "name": "stdout",
     "output_type": "stream",
     "text": [
      "Hello Rahul Your Age is 48\n",
      "You are teaching java and Python\n"
     ]
    }
   ],
   "source": [
    "s=\"Rahul\"\n",
    "a=48\n",
    "s1=\"java\"\n",
    "s2=\"Python\"\n",
    "print(\"Hello\",s,\"Your Age is\",a)\n",
    "print(\"You are teaching\",s1,\"and\",s2) "
   ]
  },
  {
   "cell_type": "markdown",
   "metadata": {},
   "source": [
    "**Form-7: print(formatted string):**\n",
    "%i====>int<br>\n",
    "%d====>int<br>\n",
    "%f=====>float<br>\n",
    "%s======>String type<br>\n",
    "\n",
    "**Syntax:**\n",
    "print(\"formatted string\" %(variable list))<br>"
   ]
  },
  {
   "cell_type": "code",
   "execution_count": 39,
   "metadata": {},
   "outputs": [
    {
     "name": "stdout",
     "output_type": "stream",
     "text": [
      "a value is 10\n",
      "b value is 20 and c value is 30\n"
     ]
    }
   ],
   "source": [
    "a=10\n",
    "b=20\n",
    "c=30\n",
    "print(\"a value is %i\" %a)\n",
    "print(\"b value is %d and c value is %d\" %(b,c)) "
   ]
  },
  {
   "cell_type": "code",
   "execution_count": 37,
   "metadata": {},
   "outputs": [
    {
     "name": "stdout",
     "output_type": "stream",
     "text": [
      "Hello Rahul ...The List of Items are [10, 20, 30, 40]\n"
     ]
    }
   ],
   "source": [
    "s=\"Rahul\"\n",
    "list=[10,20,30,40]\n",
    "print(\"Hello %s ...The List of Items are %s\" %(s,list)) "
   ]
  },
  {
   "cell_type": "code",
   "execution_count": 38,
   "metadata": {},
   "outputs": [
    {
     "name": "stdout",
     "output_type": "stream",
     "text": [
      "Hello Rahul your salary is 10000 and Your Friend Sunny is waiting\n",
      "Hello Rahul your salary is 10000 and Your Friend Sunny is waiting\n"
     ]
    }
   ],
   "source": [
    "# Form-8: print() with replacement operator {}\n",
    "\n",
    "name=\"Rahul\"\n",
    "salary=10000\n",
    "gf=\"Sunny\"\n",
    "print(\"Hello {0} your salary is {1} and Your Friend {2} is waiting\".format(name,salary,gf))\n",
    "print(\"Hello {x} your salary is {y} and Your Friend {z} is waiting\".format(x=name,y=salary,z=\n",
    "gf))"
   ]
  },
  {
   "cell_type": "code",
   "execution_count": null,
   "metadata": {},
   "outputs": [],
   "source": []
  }
 ],
 "metadata": {
  "kernelspec": {
   "display_name": "Python 3",
   "language": "python",
   "name": "python3"
  },
  "language_info": {
   "codemirror_mode": {
    "name": "ipython",
    "version": 3
   },
   "file_extension": ".py",
   "mimetype": "text/x-python",
   "name": "python",
   "nbconvert_exporter": "python",
   "pygments_lexer": "ipython3",
   "version": "3.11.4"
  },
  "orig_nbformat": 4
 },
 "nbformat": 4,
 "nbformat_minor": 2
}
