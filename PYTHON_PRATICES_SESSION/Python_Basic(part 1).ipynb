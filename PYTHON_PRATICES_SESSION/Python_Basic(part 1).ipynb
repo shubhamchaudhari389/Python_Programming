{
 "cells": [
  {
   "attachments": {},
   "cell_type": "markdown",
   "metadata": {},
   "source": [
    "### Q1.Write a Python program to print the following string in a specific format<br>\n",
    "Sample String: \"Twinkle, twinkle, little star, How I wonder what you are! Up above the world so high, Like a diamond in the sky. Twinkle, twinkle, little star, How I wonder what you are!\""
   ]
  },
  {
   "cell_type": "code",
   "execution_count": 12,
   "metadata": {},
   "outputs": [
    {
     "name": "stdout",
     "output_type": "stream",
     "text": [
      "Twinkle, twinkle, little star,\n",
      "\tHow I wonder what you are!\n",
      "\tUp above the world so high,\n",
      "\tLike a diamond in the sky.\n",
      "Twinkle, twinkle, little star,\n",
      "\tHow I wonder what you are!\n"
     ]
    }
   ],
   "source": [
    "print(\"Twinkle, twinkle, little star,\\n\\tHow I wonder what you are!\\n\\tUp above the world so high,\\n\\tLike a diamond in the sky.\\nTwinkle, twinkle, little star,\\n\\tHow I wonder what you are!\")"
   ]
  },
  {
   "attachments": {},
   "cell_type": "markdown",
   "metadata": {},
   "source": [
    "### Q2.Write a Python program to find out what version of Python you are using.\n",
    "A string containing the version number of the Python interpreter plus additional information on the build number and compiler used. This string is displayed when the interactive interpreter is started."
   ]
  },
  {
   "cell_type": "code",
   "execution_count": 13,
   "metadata": {},
   "outputs": [
    {
     "name": "stdout",
     "output_type": "stream",
     "text": [
      "Python version\n",
      "3.10.9 | packaged by Anaconda, Inc. | (main, Mar  1 2023, 18:18:15) [MSC v.1916 64 bit (AMD64)]\n",
      "Version info.\n",
      "sys.version_info(major=3, minor=10, micro=9, releaselevel='final', serial=0)\n"
     ]
    }
   ],
   "source": [
    "import sys\n",
    "print(\"Python version\")\n",
    "print (sys.version)\n",
    "print(\"Version info.\")\n",
    "print (sys.version_info)"
   ]
  },
  {
   "attachments": {},
   "cell_type": "markdown",
   "metadata": {},
   "source": [
    "### Q3. Write a Python program to display the current date and time.\n",
    "\n",
    "<b><u>Python datetime:</b></u>\n",
    "The datetime module supplies classes for manipulating dates and times in both simple and complex ways. datetime.now(tz=None) returns the current local date and time. If optional argument tz is None or not specified, this is like today().date.strftime(format) returns a string representing the date, controlled by an explicit format string. Format codes referring to hours, minutes or seconds will see 0 values."
   ]
  },
  {
   "cell_type": "code",
   "execution_count": 14,
   "metadata": {},
   "outputs": [
    {
     "name": "stdout",
     "output_type": "stream",
     "text": [
      "Current date: \n",
      "2023-08-01\n",
      "Current time: \n",
      "16:21:00\n"
     ]
    }
   ],
   "source": [
    "import datetime\n",
    "now = datetime.datetime.now()\n",
    "print(\"Current date: \")\n",
    "print(now.strftime(\"%Y-%m-%d\"))\n",
    "print(\"Current time: \")\n",
    "print(now.strftime(\"%H:%M:%S\"))"
   ]
  },
  {
   "attachments": {},
   "cell_type": "markdown",
   "metadata": {},
   "source": [
    "### Q4. Write a Python program that calculates the area of a circle based on the radius entered by the user.\n",
    "\n",
    "<u>Python: Area of a Circle</u>\n",
    "\n",
    "In geometry, the area enclosed by a circle of radius r is πr2. Here the Greek letter π represents a constant, approximately equal to 3.14159, which is equal to the ratio of the circumference of any circle to its diameter."
   ]
  },
  {
   "cell_type": "code",
   "execution_count": 15,
   "metadata": {},
   "outputs": [
    {
     "name": "stdout",
     "output_type": "stream",
     "text": [
      "The Area Of Circle Is: 1963.4954084936207\n"
     ]
    }
   ],
   "source": [
    "import math \n",
    "radius =float(input(\"Enter The Radius Of Circle:\"))\n",
    "area = math.pi*radius*radius\n",
    "print(\"The Area Of Circle Is:\",area)"
   ]
  },
  {
   "attachments": {},
   "cell_type": "markdown",
   "metadata": {},
   "source": [
    "### Q5. Write a Python program that accepts the user's first and last name and prints them in reverse order with a space between them.\n",
    "\n",
    "Python has two functions designed for accepting data directly from the user:\n",
    "\n",
    "Python 2.x. -> raw_input()\n",
    "Python 3.x. -> input()<br>\n",
    "<b><u>raw_input():</u></b>\n",
    "\n",
    "raw_input() asks the user for a string of data and simply returns the string, the string data ended with a newline. It can also take an argument, which is displayed as a prompt before the user enters the data.\n",
    "\n",
    "print raw_input('Input your name: ') \n",
    "prints out\n",
    "\n",
    "Input your name: <user input data here>\n",
    "To assign the user's name to a variable \"x\" you can use following command :\n",
    "\n",
    "x = raw_input('Input your name: ') </br>\n",
    "<b><u>input():</u></b>\n",
    "\n",
    "In 3.x .raw_input() is renamed to input(). input() function reads a line from sys.stdin and returns it with the trailing newline stripped.\n",
    "\n",
    "To assign the user's name to a variable \"y\" you can use following command :\n",
    "\n",
    "y = input('Input your name: ')"
   ]
  },
  {
   "cell_type": "code",
   "execution_count": 16,
   "metadata": {},
   "outputs": [
    {
     "name": "stdout",
     "output_type": "stream",
     "text": [
      "chaudhari shubham\n"
     ]
    }
   ],
   "source": [
    "first_name = input(\"Enter your first name: \")\n",
    "last_name = input(\"Enter your last name: \")\n",
    "print(last_name, first_name)"
   ]
  },
  {
   "attachments": {},
   "cell_type": "markdown",
   "metadata": {},
   "source": [
    "### Q6. Write a Python program that accepts a sequence of comma-separated numbers from the user and generates a list and a tuple of those numbers.\n",
    "Sample data : 3, 5, 7, 23\n",
    "Output :\n",
    "List : ['3', ' 5', ' 7', ' 23']\n",
    "Tuple : ('3', ' 5', ' 7', ' 23')"
   ]
  },
  {
   "cell_type": "code",
   "execution_count": 17,
   "metadata": {},
   "outputs": [
    {
     "ename": "NameError",
     "evalue": "name 'list_values' is not defined",
     "output_type": "error",
     "traceback": [
      "\u001b[1;31m---------------------------------------------------------------------------\u001b[0m",
      "\u001b[1;31mNameError\u001b[0m                                 Traceback (most recent call last)",
      "Cell \u001b[1;32mIn[17], line 3\u001b[0m\n\u001b[0;32m      1\u001b[0m values \u001b[39m=\u001b[39m \u001b[39minput\u001b[39m(\u001b[39m\"\u001b[39m\u001b[39mInput some comma-separated numbers: \u001b[39m\u001b[39m\"\u001b[39m)\n\u001b[0;32m      2\u001b[0m a \u001b[39m=\u001b[39m values\u001b[39m.\u001b[39msplit(\u001b[39m\"\u001b[39m\u001b[39m,\u001b[39m\u001b[39m\"\u001b[39m)\n\u001b[1;32m----> 3\u001b[0m tuple_values \u001b[39m=\u001b[39m \u001b[39mtuple\u001b[39m(list_values)\n\u001b[0;32m      4\u001b[0m \u001b[39mprint\u001b[39m(\u001b[39m'\u001b[39m\u001b[39mList:\u001b[39m\u001b[39m'\u001b[39m, list_values)\n\u001b[0;32m      5\u001b[0m \u001b[39mprint\u001b[39m(\u001b[39m'\u001b[39m\u001b[39mTuple:\u001b[39m\u001b[39m'\u001b[39m, tuple_values)\n",
      "\u001b[1;31mNameError\u001b[0m: name 'list_values' is not defined"
     ]
    }
   ],
   "source": [
    "values = input(\"Input some comma-separated numbers: \")\n",
    "a = values.split(\",\")\n",
    "tuple_values = tuple(list_values)\n",
    "print('List:', list_values)\n",
    "print('Tuple:', tuple_values)"
   ]
  },
  {
   "cell_type": "code",
   "execution_count": null,
   "metadata": {},
   "outputs": [
    {
     "name": "stdout",
     "output_type": "stream",
     "text": [
      "List: ['5', '6', '7']\n",
      "Tuple: ('5', '6', '7')\n"
     ]
    }
   ],
   "source": [
    "data = input(\"Enter a sequence of comma-separated numbers: \")\n",
    "numbers = data.split(\",\")  # Split the input string at commas and create a list\n",
    "\n",
    "# Remove leading and trailing whitespaces from each element in the list\n",
    "numbers = [num.strip() for num in numbers]\n",
    "\n",
    "list_numbers = numbers  # The list of numbers\n",
    "tuple_numbers = tuple(numbers)  # Convert the list to a tuple\n",
    "\n",
    "print(\"List:\", list_numbers)\n",
    "print(\"Tuple:\", tuple_numbers)\n"
   ]
  },
  {
   "attachments": {},
   "cell_type": "markdown",
   "metadata": {},
   "source": [
    "### Q7. Write a Python program that accepts a filename from the user and prints the extension of the file.\n",
    "Sample filename : abc.java\n",
    "Output : java."
   ]
  },
  {
   "cell_type": "code",
   "execution_count": 18,
   "metadata": {},
   "outputs": [
    {
     "name": "stdout",
     "output_type": "stream",
     "text": [
      "The extension of the file is :  shubh\n"
     ]
    }
   ],
   "source": [
    "filename = input(\"Input the Filename: \")\n",
    "f_extns = filename.split(\".\")[-1]\n",
    "print (\"The extension of the file is : \" ,f_extns )\n"
   ]
  },
  {
   "attachments": {},
   "cell_type": "markdown",
   "metadata": {},
   "source": [
    "### Q8.Write a Python program to display the first and last colors from the following list.\n",
    "color_list = [\"Red\",\"Green\",\"White\" ,\"Black\"]"
   ]
  },
  {
   "cell_type": "code",
   "execution_count": 19,
   "metadata": {},
   "outputs": [
    {
     "name": "stdout",
     "output_type": "stream",
     "text": [
      "Red Black\n"
     ]
    }
   ],
   "source": [
    "color_list= [\"Red\",\"Green\" ,\"White\", \"Black\"]\n",
    "print(\"%s %s\"%(color_list[0],color_list[-1]))"
   ]
  },
  {
   "attachments": {},
   "cell_type": "markdown",
   "metadata": {},
   "source": [
    "### Q9. Write a Python program to display the examination schedule. (extract the date from exam_st_date).\n",
    "exam_st_date = (11, 12, 2014)\n",
    "Sample Output : The examination will start from : 11 / 12 / 2014"
   ]
  },
  {
   "cell_type": "code",
   "execution_count": 20,
   "metadata": {},
   "outputs": [
    {
     "name": "stdout",
     "output_type": "stream",
     "text": [
      "The examination will start from : 11 / 12 / 2014\n"
     ]
    }
   ],
   "source": [
    "exam_st_date = (11,12,2014)\n",
    "print( \"The examination will start from : %i / %i / %i\"%exam_st_date)\n"
   ]
  },
  {
   "attachments": {},
   "cell_type": "markdown",
   "metadata": {},
   "source": [
    "### Q10. Write a Python program that accepts an integer (n) and computes the value of n+nn+nnn.\n",
    "Sample value of n is 5\n",
    "Expected Result : 615"
   ]
  },
  {
   "cell_type": "code",
   "execution_count": 21,
   "metadata": {},
   "outputs": [
    {
     "name": "stdout",
     "output_type": "stream",
     "text": [
      "5\n",
      "55\n",
      "555\n",
      "615\n"
     ]
    }
   ],
   "source": [
    "a = int(input(\"Input an Integer : \"))\n",
    "n1= int( \"%s\" % a)\n",
    "print(n1)\n",
    "n2= int( \"%s%s\" % (a,a))\n",
    "print(n2)\n",
    "n3= int( \"%s%s%s\" % (a,a,a))\n",
    "\n",
    "print(n3)\n",
    "print(n1 + n2 + n3)"
   ]
  },
  {
   "cell_type": "markdown",
   "metadata": {},
   "source": [
    "### Q11. Write a Python program to print the documents (syntax, description etc.) of Python built-in function(s).\n",
    "\n",
    "<b><u>Sample function: </b></u>abs()\n",
    "\n",
    "<b><u>Python Docstring:</b></u>\n",
    "\n",
    "A docstring is a string literal that occurs as the first statement in a module, function, class, or method definition. Such a docstring becomes the __doc__ special attribute of that object.\n",
    "\n",
    "All modules should normally have docstrings, and all functions and classes exported by a module should also have docstrings. Public methods (including the __init__ constructor) should also have docstrings.."
   ]
  },
  {
   "cell_type": "code",
   "execution_count": null,
   "metadata": {},
   "outputs": [
    {
     "name": "stdout",
     "output_type": "stream",
     "text": [
      "Return the absolute value of the argument.\n"
     ]
    }
   ],
   "source": [
    "print(abs.__doc__)"
   ]
  },
  {
   "cell_type": "markdown",
   "metadata": {},
   "source": [
    "### Q12.Write a Python program that prints the calendar for a given month and year.\n",
    "Note: Use 'calendar' module.<br>\n",
    "\n",
    "<b>Python calendar.month(theyear, themonth, w=0, l=0):</b><br>\n",
    "The function returns a month’s calendar in a multi-line string using the formatmonth() of the TextCalendar class.\n",
    "'l' specifies the number of lines that each week will use."
   ]
  },
  {
   "cell_type": "code",
   "execution_count": null,
   "metadata": {},
   "outputs": [
    {
     "name": "stdout",
     "output_type": "stream",
     "text": [
      "      May 2023\n",
      "Mo Tu We Th Fr Sa Su\n",
      " 1  2  3  4  5  6  7\n",
      " 8  9 10 11 12 13 14\n",
      "15 16 17 18 19 20 21\n",
      "22 23 24 25 26 27 28\n",
      "29 30 31\n",
      "\n"
     ]
    }
   ],
   "source": [
    "import calendar\n",
    "y = int(input(\"Input The Year : \"))\n",
    "m = int(input(\"Input the MOnth :\"))\n",
    "\n",
    "print(calendar.month(y , m))"
   ]
  },
  {
   "cell_type": "markdown",
   "metadata": {},
   "source": [
    "### Q13.Write a Python program to print the following 'here document'.\n",
    "\n",
    "<b><u>Sample string:</b></u><br>\n",
    "\n",
    "a string that you \"don't\" have to escape\n",
    "This\n",
    "is a ....... multi-line\n",
    "heredoc string --------> example"
   ]
  },
  {
   "cell_type": "code",
   "execution_count": null,
   "metadata": {},
   "outputs": [],
   "source": []
  },
  {
   "cell_type": "markdown",
   "metadata": {},
   "source": [
    "### Q.14 Write a Python program to calculate the number of days between two dates\n",
    "Python datetime.date(year, month, day) :\n",
    "\n",
    "The function returns date object with same year, month and day. All arguments are required. Arguments may be integers, in the following ranges:\n",
    "\n",
    "MINYEAR <= year <= MAXYEAR\n",
    "1 <= month <= 12\n",
    "1 <= day <= number of days in the given month and year\n",
    "If an argument outside those ranges is given, ValueError is raised.\n",
    "\n",
    "Note: The smallest year number allowed in a date or datetime object. MINYEAR is 1.\n",
    "The largest year number allowed in a date or datetime object. MAXYEAR is 9999."
   ]
  },
  {
   "cell_type": "code",
   "execution_count": null,
   "metadata": {},
   "outputs": [],
   "source": []
  },
  {
   "cell_type": "markdown",
   "metadata": {},
   "source": [
    "### Q.26 Write A Python Program To Create A Histogram FRom A Given List Of Integer."
   ]
  },
  {
   "cell_type": "markdown",
   "metadata": {},
   "source": [
    "Sure! Let's explain how the `histogram` function works with the input `[2, 3, 6, 5]`.\n",
    "\n",
    "1. The function `histogram` takes a list of numbers as input, in this case, `[2, 3, 6, 5]`.\n",
    "\n",
    "2. It iterates through each element in the list using a `for` loop.\n",
    "\n",
    "3. For each element `n` in the list, the function initializes an empty string `output` and a variable `times` with the value of `n`.\n",
    "\n",
    "4. It then enters a `while` loop that runs as long as the value of `times` is greater than 0.\n",
    "\n",
    "5. Inside the `while` loop, the string `output` is appended with an asterisk `*` in each iteration.\n",
    "\n",
    "6. The variable `times` is decremented by 1 in each iteration of the loop.\n",
    "\n",
    "7. The loop continues until the value of `times` becomes 0.\n",
    "\n",
    "8. After the `while` loop is finished, the function prints the `output` string, which contains a sequence of asterisks corresponding to the value of the current element `n`.\n",
    "\n",
    "Now, let's apply this explanation to the input `[2, 3, 6, 5]`:\n",
    "\n",
    "1. For the first element `2`, the function creates the string `output` with two asterisks: `output = '**'`. It then prints `**`.\n",
    "\n",
    "2. For the second element `3`, the function creates the string `output` with three asterisks: `output = '***'`. It then prints `***`.\n",
    "\n",
    "3. For the third element `6`, the function creates the string `output` with six asterisks: `output = '******'`. It then prints `******`.\n",
    "\n",
    "4. For the fourth element `5`, the function creates the string `output` with five asterisks: `output = '*****'`. It then prints `*****`.\n",
    "\n",
    "So, the output of the `histogram([2, 3, 6, 5])` function call will be:\n",
    "\n",
    "<img src=\"Screenshot 2023-07-20 120424.png\" alt=\"Aleq\" width=\"500\" height=\"485\"/>\n",
    "\n",
    "\n",
    "\n"
   ]
  },
  {
   "cell_type": "code",
   "execution_count": null,
   "metadata": {},
   "outputs": [
    {
     "name": "stdout",
     "output_type": "stream",
     "text": [
      "**\n",
      "***\n",
      "******\n",
      "*****\n"
     ]
    }
   ],
   "source": [
    "def histogram( items ):\n",
    "    for n in items:\n",
    "        output = ''\n",
    "        times = n\n",
    "        while( times > 0 ):\n",
    "          output += '*'\n",
    "          times = times - 1\n",
    "        print(output)\n",
    "\n",
    "histogram([2, 3, 6, 5])"
   ]
  },
  {
   "cell_type": "markdown",
   "metadata": {},
   "source": []
  }
 ],
 "metadata": {
  "kernelspec": {
   "display_name": "base",
   "language": "python",
   "name": "python3"
  },
  "language_info": {
   "codemirror_mode": {
    "name": "ipython",
    "version": 3
   },
   "file_extension": ".py",
   "mimetype": "text/x-python",
   "name": "python",
   "nbconvert_exporter": "python",
   "pygments_lexer": "ipython3",
   "version": "3.10.9"
  },
  "orig_nbformat": 4
 },
 "nbformat": 4,
 "nbformat_minor": 2
}
