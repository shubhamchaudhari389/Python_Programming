{
 "cells": [
  {
   "cell_type": "markdown",
   "metadata": {},
   "source": [
    "# <center> String Data type </center>"
   ]
  },
  {
   "cell_type": "markdown",
   "metadata": {},
   "source": [
    "The most commonly used object in any project and in any programming language is String only. Hence we should aware complete information about String data type.<br>\n",
    "# What is String?\n",
    "Any sequence of characters within either single quotes or double quotes is considered as a String.<br>\n",
    "Syntax:<br>\n",
    "s='Rahul' <br>\n",
    "s=\"Rahul\" <br>\n",
    "Note: In most of other languges like C, C++,Java, a single character with in single quotes is treated as char data type value. But in Python we are not having char data type.Hence it is treated as String only.<br>\n"
   ]
  },
  {
   "cell_type": "code",
   "execution_count": 1,
   "metadata": {},
   "outputs": [
    {
     "data": {
      "text/plain": [
       "str"
      ]
     },
     "execution_count": 1,
     "metadata": {},
     "output_type": "execute_result"
    }
   ],
   "source": [
    "ch =\"a\"\n",
    "type(ch)"
   ]
  },
  {
   "cell_type": "markdown",
   "metadata": {},
   "source": [
    "## How to define multi-line String literals:\n",
    "We can define multi-line String literals by using triple single or double quotes.<br>\n",
    "Eg:<br>\n"
   ]
  },
  {
   "cell_type": "code",
   "execution_count": 4,
   "metadata": {},
   "outputs": [
    {
     "name": "stdout",
     "output_type": "stream",
     "text": [
      "Rahul\n",
      "software\n",
      "solutions\n"
     ]
    }
   ],
   "source": [
    "s='''Rahul\n",
    "software\n",
    "solutions'''\n",
    "print(s)"
   ]
  },
  {
   "cell_type": "markdown",
   "metadata": {},
   "source": [
    "We can also use triple quotes to use single quotes or double quotes as symbol inside String literal\n",
    "Eg:<br>\n",
    "s='This is ' single quote symbol' ==>invalid<br>\n",
    "s='This is \\' single quote symbol' ==>valid<br>\n",
    "s=\"This is ' single quote symbol\"====>valid<br>\n",
    "s='This is \" double quotes symbol' ==>valid<br>\n",
    "s='The \"Python Notes\" by 'Rahul' is very helpful' ==>invalid<br>\n",
    "s=\"The \"Python Notes\" by 'Avinash' is very helpful\"==>invalid<br>\n",
    "s='The \\\"Python Notes\\\" by \\'durga\\' is very helpful' ==>valid<br>\n",
    "s='''The \"Python Notes\" by 'durga' is very helpful''' ==>vali<br>"
   ]
  },
  {
   "cell_type": "markdown",
   "metadata": {},
   "source": [
    "## How to access characters of a String:\n",
    "We can access characters of a string by using the following ways.<br>\n",
    "1. By using index\n",
    "2. By using slice operator\n",
    "\n",
    "\n",
    "### 1. By using index:\n",
    "Python supports both +ve and -ve index.\n",
    "- +ve index means left to right(Forward direction)\n",
    "- -ve index means right to left(Backward direction)\n",
    "\n",
    "Eg:<br>\n",
    "s='Vishal'"
   ]
  },
  {
   "cell_type": "code",
   "execution_count": 9,
   "metadata": {},
   "outputs": [
    {
     "data": {
      "text/plain": [
       "'m'"
      ]
     },
     "execution_count": 9,
     "metadata": {},
     "output_type": "execute_result"
    }
   ],
   "source": [
    "S='Shubham'\n",
    "S[0]\n",
    "S[4]\n",
    "S[-1]\n",
    "#S[10] # error String Index Out of Range\n"
   ]
  },
  {
   "cell_type": "markdown",
   "metadata": {},
   "source": [
    "Note: If we are trying to access characters of a string with out of range index then we will get error saying : IndexError"
   ]
  },
  {
   "cell_type": "markdown",
   "metadata": {},
   "source": [
    "#### Q. Write a program to accept some string from the keyboard and display its characters by index wise(both positive and nEgative index)"
   ]
  },
  {
   "cell_type": "code",
   "execution_count": 10,
   "metadata": {},
   "outputs": [
    {
     "name": "stdout",
     "output_type": "stream",
     "text": [
      "The Character Present At Positive index0 And Get nNegative Index -7 is S\n",
      "The Character Present At Positive index1 And Get nNegative Index -6 is h\n",
      "The Character Present At Positive index2 And Get nNegative Index -5 is u\n",
      "The Character Present At Positive index3 And Get nNegative Index -4 is b\n",
      "The Character Present At Positive index4 And Get nNegative Index -3 is h\n",
      "The Character Present At Positive index5 And Get nNegative Index -2 is a\n",
      "The Character Present At Positive index6 And Get nNegative Index -1 is m\n"
     ]
    }
   ],
   "source": [
    "s =input(\"Enter Some STring:\")\n",
    "i =0\n",
    "for x in s:\n",
    "    print(\"The Character Present At Positive index{} And Get nNegative Index {} is {}\".format(i,i-len(s),x))\n",
    "    i = i+1"
   ]
  },
  {
   "cell_type": "markdown",
   "metadata": {},
   "source": [
    "### 2. Accessing characters by using slice operator: <br>\n",
    "\n",
    "Syntax: s[bEginindex:endindex:step] <br>\n",
    "- Eginindex:From where we have to consider slice(substring)<br>\n",
    "- endindex: We have to terminate the slice(substring) at endindex-1 <br>\n",
    "- step: incremented value<br>\n",
    "\n",
    "\n",
    "Note: If we are not specifying bEgin index then it will consider from bEginning of the string.<br>\n",
    "If we are not specifying end index then it will consider up to end of the string The default value for step is 1"
   ]
  },
  {
   "cell_type": "code",
   "execution_count": 21,
   "metadata": {},
   "outputs": [
    {
     "name": "stdout",
     "output_type": "stream",
     "text": [
      "earnin\n",
      "earnin\n",
      "eri\n",
      "Learnin\n",
      "g Python Is Very Very Easy !!!\n",
      "Learning Python Is Very Very Easy !!!\n",
      "!!! ysaE yreV yreV sI nohtyP gninraeL\n"
     ]
    }
   ],
   "source": [
    "S= \"Learning Python Is Very Very Easy !!!\"\n",
    "\n",
    "print(S[1:7:1])\n",
    "\n",
    "print(S[1:7])\n",
    "\n",
    "print(S[1:7:2])\n",
    "\n",
    "print(S[:7])\n",
    "\n",
    "print(S[7:])\n",
    "\n",
    "print(S[:])\n",
    "\n",
    "print(S[::-1])\n"
   ]
  },
  {
   "cell_type": "markdown",
   "metadata": {},
   "source": [
    "## Behaviour of slice operator:\n",
    "- s[bEgin:end:step]\n",
    "- step value can be either +ve or –ve\n",
    "- if +ve then it should be forward direction(left to right) and we have to consider bEgin to end-1\n",
    "- if -ve then it should be backward direction(right to left) and we have to consider bEgin to end+1\n",
    "\n",
    "Note:\n",
    "- In the backward direction if end value is -1 then result is always empty.\n",
    "- In the forward direction if end value is 0 then result is always empty.\n",
    "\n",
    "## In forward direction:\n",
    "default value for bEgin: 0<br>\n",
    "default value for end: length of string<br>\n",
    "default value for step: +1<br>\n",
    "\n",
    "## In backward direction:\n",
    "default value for bEgin: -1<br>\n",
    "default value for end: -(length of string+1)<br>\n",
    "Note: Either forward or backward direction, we can take both +ve and -ve values for bEgin and end index.<br>\n"
   ]
  },
  {
   "cell_type": "markdown",
   "metadata": {},
   "source": [
    "## Mathematical Operators for String:\n",
    "We can apply the following mathematical operators for Strings.<br>\n",
    "1. + operator for concatenation<br>\n",
    "2. * operator for repetition <br>\n",
    "print(\"Rahul\"+\"Tiwari\") <br>\n",
    "print(\"Rahul\"*2) <br>\n",
    "Note: <br>\n",
    "1. To use + operator for Strings, compulsory both arguments should be str type <br>\n",
    "2. To use * operator for Strings, compulsory one argument should be str and other argument should be int <br>\n",
    "## len() in-built function:\n",
    "We can use len() function to find the number of characters present in the string"
   ]
  },
  {
   "cell_type": "code",
   "execution_count": 22,
   "metadata": {},
   "outputs": [
    {
     "name": "stdout",
     "output_type": "stream",
     "text": [
      "7\n"
     ]
    }
   ],
   "source": [
    "S = 'Shubham'\n",
    "print(len(S))"
   ]
  },
  {
   "cell_type": "markdown",
   "metadata": {},
   "source": [
    "#### Q. Write a program to access each character of string in forward and backward direction by using while loop?\n"
   ]
  },
  {
   "cell_type": "code",
   "execution_count": 27,
   "metadata": {},
   "outputs": [
    {
     "name": "stdout",
     "output_type": "stream",
     "text": [
      "Forward Direction:\n",
      "Learning Python Is Very Easy !!!Backword Direction\n",
      "!!! ysaE yreV sI nohtyP gninraeL"
     ]
    }
   ],
   "source": [
    "S = \"Learning Python Is Very Easy !!!\"\n",
    "n = len(S)\n",
    "i = 0\n",
    "print(\"Forward Direction:\")\n",
    "while i<n:\n",
    "    print(S[i],end=\"\")\n",
    "    i +=1\n",
    "\n",
    "print(\"Backword Direction\")\n",
    "i =-1\n",
    "while i>=-n:\n",
    "    print(S[i], end=\"\")\n",
    "    i = i-1\n"
   ]
  },
  {
   "attachments": {
    "image.png": {
     "image/png": "[encoded data removed]"
    }
   },
   "cell_type": "markdown",
   "metadata": {},
   "source": [
    "### Alternative Way\n",
    "![image.png](attachment:image.png)"
   ]
  },
  {
   "cell_type": "markdown",
   "metadata": {},
   "source": [
    "## Checking Membership:\n",
    "We can check whether the character or string is the member of another string or not by using in and not in operators\n"
   ]
  },
  {
   "cell_type": "code",
   "execution_count": 3,
   "metadata": {},
   "outputs": [
    {
     "name": "stdout",
     "output_type": "stream",
     "text": [
      "False\n",
      "True\n"
     ]
    }
   ],
   "source": [
    "s='Rauju'\n",
    "print('d' in s) \n",
    "print('j' in s) "
   ]
  },
  {
   "cell_type": "code",
   "execution_count": 4,
   "metadata": {},
   "outputs": [
    {
     "name": "stdout",
     "output_type": "stream",
     "text": [
      "hu is Found In Main String\n"
     ]
    }
   ],
   "source": [
    "s = input(\"Enter The Main String:\")\n",
    "subs = input(\"Enter The Sub string:\")\n",
    "if subs in s:\n",
    "    print(subs, \"is Found In Main String\")\n",
    "else:\n",
    "    print(subs,\"is Not Found In Main String\")"
   ]
  },
  {
   "cell_type": "markdown",
   "metadata": {},
   "source": [
    "# Comparison of Strings:\n",
    "- We can use comparison operators (<,<=,>,>=) and equality operators(==,!=) for strings.\n",
    "- Comparison will be performed based on alphabetical order"
   ]
  },
  {
   "cell_type": "code",
   "execution_count": 5,
   "metadata": {},
   "outputs": [
    {
     "name": "stdout",
     "output_type": "stream",
     "text": [
      "First String is Greater Than Second String\n"
     ]
    }
   ],
   "source": [
    "s1 = input(\"Enter The First String:\")\n",
    "s2 = input(\"Enter The Second String:\")\n",
    "if s1 == s2 :\n",
    "    print(\"Both ARe Equal\")\n",
    "elif s1<s2:\n",
    "    print(\"First String is Less Than Second String\")\n",
    "else:\n",
    "    print(\"First String is Greater Than Second String\")"
   ]
  },
  {
   "cell_type": "markdown",
   "metadata": {},
   "source": [
    "## Removing spaces from the string:\n",
    "We can use the following 3 methods<br>\n",
    "1. rstrip()===>To remove spaces at right hand side\n",
    "2. lstrip()===>To remove spaces at left hand side\n",
    "3. strip() ==>To remove spaces both sides"
   ]
  },
  {
   "cell_type": "code",
   "execution_count": 6,
   "metadata": {},
   "outputs": [
    {
     "name": "stdout",
     "output_type": "stream",
     "text": [
      "your Entered City Is in Valid\n"
     ]
    }
   ],
   "source": [
    "city = input(\"Enter Your City Name:\")\n",
    "scity=city.strip()\n",
    "if scity == 'Hydrabad':\n",
    "    print(\"Hello Hydrabadi....adba\")\n",
    "elif scity =='chennai':\n",
    "    print(\"Hello Madarsi...Vanakkam\")\n",
    "elif scity ==\"Bangalore\":\n",
    "    print(\"Hello Kannadiga.....Shubhodaya\")\n",
    "else:\n",
    "    print(\"your Entered City Is in Valid\")"
   ]
  },
  {
   "cell_type": "markdown",
   "metadata": {},
   "source": [
    "## Finding Substrings:\n",
    "We can use the following 4 methods<br>\n",
    "For forward direction:<br>\n",
    "- find()\n",
    "- index()<br>\n",
    "\n",
    "For backward direction:<br>\n",
    "- rfind()\n",
    "- rindex()\n"
   ]
  },
  {
   "cell_type": "markdown",
   "metadata": {},
   "source": [
    "### 1. find():\n",
    "s.find(substring)<br>\n",
    "Returns index of first occurrence of the given substring. If it is not available then we will get -1"
   ]
  },
  {
   "cell_type": "code",
   "execution_count": 8,
   "metadata": {},
   "outputs": [
    {
     "name": "stdout",
     "output_type": "stream",
     "text": [
      "9\n",
      "-1\n",
      "3\n",
      "21\n"
     ]
    }
   ],
   "source": [
    "s = \"Learning Python Is Very Easy\"\n",
    "print(s.find(\"Python\"))\n",
    "print(s.find(\"Java\"))\n",
    "print(s.find(\"r\"))\n",
    "print(s.rfind(\"r\"))"
   ]
  },
  {
   "cell_type": "markdown",
   "metadata": {},
   "source": [
    "Note: By default find() method can search total string. We can also specify the boundaries to search. <br>\n",
    "\n",
    "s.find(substring,bEgin,end)<br>\n",
    "It will always search from bEgin index to end-1 index<br>"
   ]
  },
  {
   "cell_type": "code",
   "execution_count": 9,
   "metadata": {},
   "outputs": [
    {
     "name": "stdout",
     "output_type": "stream",
     "text": [
      "1\n",
      "8\n",
      "-1\n"
     ]
    }
   ],
   "source": [
    "s =\"RahulTiwari\"\n",
    "print(s.find(\"a\"))\n",
    "print(s.find('a',7,15))\n",
    "print(s.find('z',7,15))"
   ]
  },
  {
   "cell_type": "markdown",
   "metadata": {},
   "source": [
    "## index() method:\n",
    "index() method is exactly same as find() method except that if the specified substring is not available then we will get ValueError."
   ]
  },
  {
   "cell_type": "code",
   "execution_count": 11,
   "metadata": {},
   "outputs": [
    {
     "name": "stdout",
     "output_type": "stream",
     "text": [
      "substring Found\n"
     ]
    }
   ],
   "source": [
    "s = input(\"Enter The main Strring:\")\n",
    "subs = input(\"Enter The Sub String:\")\n",
    "\n",
    "try:\n",
    "    n = s.index(subs)\n",
    "except :\n",
    "    print(\"substring not Found\")\n",
    "else:\n",
    "    print(\"substring Found\")"
   ]
  },
  {
   "cell_type": "markdown",
   "metadata": {},
   "source": [
    "#### Q. Program to display all positions of substring in a given main string\n"
   ]
  },
  {
   "cell_type": "code",
   "execution_count": 14,
   "metadata": {},
   "outputs": [
    {
     "name": "stdout",
     "output_type": "stream",
     "text": [
      "Found At Position 1\n",
      "Found At Position 4\n"
     ]
    }
   ],
   "source": [
    "s = input(\"Enter The Main String:\")\n",
    "subs = input(\"Enter The Sub String:\")\n",
    "\n",
    "flag = False\n",
    "pos = -1\n",
    "n =len(s)\n",
    "while True:\n",
    "    pos = s.find(subs,pos+1,n)\n",
    "\n",
    "    if pos==-1:\n",
    "        break\n",
    "    print(\"Found At Position\",pos)\n",
    "    flag = True\n",
    "\n",
    "if flag==False:\n",
    "    print(\"Not Found\")"
   ]
  },
  {
   "cell_type": "markdown",
   "metadata": {},
   "source": [
    "## Counting substring in the given String:\n",
    "We can find the number of occurrences of substring present in the given string by using count() method.<br>\n",
    "1. s.count(substring) ==> It will search through out the string\n",
    "2. s.count(substring, bEgin, end) ===> It will search from bEgin index to end-1 index"
   ]
  },
  {
   "cell_type": "code",
   "execution_count": 15,
   "metadata": {},
   "outputs": [
    {
     "name": "stdout",
     "output_type": "stream",
     "text": [
      "6\n",
      "4\n",
      "2\n"
     ]
    }
   ],
   "source": [
    "s = \"abcabcabcabcadda\"\n",
    "print(s.count('a'))\n",
    "print(s.count('ab'))\n",
    "print(s.count('a',3,7))"
   ]
  },
  {
   "cell_type": "markdown",
   "metadata": {},
   "source": [
    "## Replacing a string with another string:\n",
    "- s.replace(oldstring,newstring)\n",
    "- inside s, every occurrence of oldstring will be replaced with newstring.\n"
   ]
  },
  {
   "cell_type": "code",
   "execution_count": 18,
   "metadata": {},
   "outputs": [
    {
     "name": "stdout",
     "output_type": "stream",
     "text": [
      "Learning Python is very easy\n"
     ]
    }
   ],
   "source": [
    "s=\"Learning Python is very difficult\"\n",
    "s1 =s.replace(\"difficult\",\"easy\")\n",
    "print(s1)"
   ]
  },
  {
   "cell_type": "code",
   "execution_count": 19,
   "metadata": {},
   "outputs": [
    {
     "name": "stdout",
     "output_type": "stream",
     "text": [
      "bbbbbbbbbbbbbb\n"
     ]
    }
   ],
   "source": [
    "s=\"ababababababab\"\n",
    "s1=s.replace(\"a\",\"b\")\n",
    "print(s1)\n"
   ]
  },
  {
   "cell_type": "markdown",
   "metadata": {},
   "source": [
    "#### Q. String objects are immutable then how we can change the content by using replace() method.\n",
    "Once we creates string object, we cannot change the content.This non changeable behaviour is nothing but immutability. If we are trying to change the content by using any method, then with those changes a new object will be created and changes won't be happend in existing object.<br>\n",
    "Hence with replace() method also a new object got created but existing object won't be changed."
   ]
  },
  {
   "cell_type": "code",
   "execution_count": 20,
   "metadata": {},
   "outputs": [
    {
     "name": "stdout",
     "output_type": "stream",
     "text": [
      "abab is available at : 2149112765040\n",
      "bbbb is available at : 2149079010224\n"
     ]
    }
   ],
   "source": [
    "s=\"abab\"\n",
    "s1=s.replace(\"a\",\"b\")\n",
    "print(s,\"is available at :\",id(s))\n",
    "print(s1,\"is available at :\",id(s1))\n"
   ]
  },
  {
   "cell_type": "markdown",
   "metadata": {},
   "source": [
    "In the above example, original object is available and we can see new object which was created \n",
    "because of replace() method"
   ]
  },
  {
   "cell_type": "markdown",
   "metadata": {},
   "source": [
    "## Splitting of Strings:\n",
    "We can split the given string according to specified seperator by using split() method.<br>\n",
    "l=s.split(seperator)\n",
    "The default seperator is space. The return type of split() method is List"
   ]
  },
  {
   "cell_type": "code",
   "execution_count": 22,
   "metadata": {},
   "outputs": [
    {
     "name": "stdout",
     "output_type": "stream",
     "text": [
      "Rahul\n",
      "Tiwari\n"
     ]
    }
   ],
   "source": [
    "s = \"Rahul Tiwari\"\n",
    "l= s.split()\n",
    "for x in l:\n",
    "    print(x)"
   ]
  },
  {
   "cell_type": "code",
   "execution_count": 24,
   "metadata": {},
   "outputs": [
    {
     "name": "stdout",
     "output_type": "stream",
     "text": [
      "22\n",
      "02\n",
      "2018\n"
     ]
    }
   ],
   "source": [
    "s = \"22-02-2018\"\n",
    "l =s.split('-')\n",
    "for x in l:\n",
    "    print(x)\n"
   ]
  },
  {
   "cell_type": "markdown",
   "metadata": {},
   "source": [
    "## Joining of Strings:\n",
    "We can join a group of strings(list or tuple) wrt the given seperator.<br>\n",
    "s=seperator.join(group of strings)\n"
   ]
  },
  {
   "cell_type": "code",
   "execution_count": 26,
   "metadata": {},
   "outputs": [
    {
     "name": "stdout",
     "output_type": "stream",
     "text": [
      "sunny-bunny-chinny\n"
     ]
    }
   ],
   "source": [
    "t=('sunny','bunny','chinny')\n",
    "s ='-'.join(t)\n",
    "print(s)"
   ]
  },
  {
   "cell_type": "code",
   "execution_count": 27,
   "metadata": {},
   "outputs": [
    {
     "name": "stdout",
     "output_type": "stream",
     "text": [
      "hyderabad:singapore:london:dubai\n"
     ]
    }
   ],
   "source": [
    "l=['hyderabad','singapore','london','dubai']\n",
    "s=':'.join(l)\n",
    "print(s)"
   ]
  },
  {
   "cell_type": "markdown",
   "metadata": {},
   "source": [
    "## Changing case of a String:\n",
    "We can change case of a string by using the following 4 methods.\n",
    "1. upper()===>To convert all characters to upper case\n",
    "2. lower() ===>To convert all characters to lower case\n",
    "3. swapcase()===>converts all lower case characters to upper case and all upper case characters to \n",
    "lower case\n",
    "4. title() ===>To convert all character to title case. i.e first character in every word should be upper \n",
    "case and all remaining characters should be in lower case.\n",
    "5. capitalize() ==>Only first character will be converted to upper case and all remaining characters \n",
    "can be converted to lower case"
   ]
  },
  {
   "cell_type": "code",
   "execution_count": 29,
   "metadata": {},
   "outputs": [
    {
     "name": "stdout",
     "output_type": "stream",
     "text": [
      "LEARNING PYTHON IS VERY EASY\n",
      "learning python is very easy\n",
      "LEARNING pYTHON IS VERY eASY\n",
      "Learning Python Is Very Easy\n",
      "Learning python is very easy\n"
     ]
    }
   ],
   "source": [
    "s='learning Python is very Easy'\n",
    "print(s.upper())\n",
    "\n"
   ]
  },
  {
   "cell_type": "code",
   "execution_count": 30,
   "metadata": {},
   "outputs": [
    {
     "name": "stdout",
     "output_type": "stream",
     "text": [
      "learning python is very easy\n"
     ]
    }
   ],
   "source": [
    "print(s.lower())\n"
   ]
  },
  {
   "cell_type": "code",
   "execution_count": 31,
   "metadata": {},
   "outputs": [
    {
     "name": "stdout",
     "output_type": "stream",
     "text": [
      "LEARNING pYTHON IS VERY eASY\n"
     ]
    }
   ],
   "source": [
    "print(s.swapcase())\n"
   ]
  },
  {
   "cell_type": "code",
   "execution_count": 32,
   "metadata": {},
   "outputs": [
    {
     "name": "stdout",
     "output_type": "stream",
     "text": [
      "Learning Python Is Very Easy\n"
     ]
    }
   ],
   "source": [
    "print(s.title())\n"
   ]
  },
  {
   "cell_type": "code",
   "execution_count": 33,
   "metadata": {},
   "outputs": [
    {
     "name": "stdout",
     "output_type": "stream",
     "text": [
      "Learning python is very easy\n"
     ]
    }
   ],
   "source": [
    "print(s.capitalize())"
   ]
  },
  {
   "cell_type": "markdown",
   "metadata": {},
   "source": [
    "## Checking starting and ending part of the string:\n",
    "Python contains the following methods for this purpose\n",
    "1. s.startswith(substring)\n",
    "2. s.endswith(substring)"
   ]
  },
  {
   "cell_type": "code",
   "execution_count": 34,
   "metadata": {},
   "outputs": [
    {
     "name": "stdout",
     "output_type": "stream",
     "text": [
      "True\n",
      "False\n",
      "True\n"
     ]
    }
   ],
   "source": [
    "s='learning Python is very easy'\n",
    "print(s.startswith('learning'))\n",
    "print(s.endswith('learning'))\n",
    "print(s.endswith('easy'))"
   ]
  },
  {
   "cell_type": "markdown",
   "metadata": {},
   "source": [
    "To check type of characters present in a string:\n",
    "Python contains the following methods for this purpose.\n",
    "1) isalnum(): Returns True if all characters are alphanumeric( a to z , A to Z ,0 to9 )\n",
    "2) isalpha(): Returns True if all characters are only alphabet symbols(a to z,A to Z)\n",
    "3) isdigit(): Returns True if all characters are digits only( 0 to 9)\n",
    "4) islower(): Returns True if all characters are lower case alphabet symbols\n",
    "5) isupper(): Returns True if all characters are upper case aplhabet symbols\n",
    "6) istitle(): Returns True if string is in title case\n",
    "7) isspace(): Returns True if string contains only spaces"
   ]
  },
  {
   "cell_type": "code",
   "execution_count": 37,
   "metadata": {},
   "outputs": [
    {
     "name": "stdout",
     "output_type": "stream",
     "text": [
      "True\n",
      "False\n",
      "True\n",
      "False\n",
      "True\n",
      "True\n",
      "False\n",
      "True\n",
      "True\n",
      "False\n",
      "True\n",
      "True\n"
     ]
    }
   ],
   "source": [
    "print('Rahul786'.isalnum()) #True\n",
    "print('Rahul786'.isalpha()) #False\n",
    "print('Rahul'.isalpha()) #True\n",
    "print('Rahul'.isdigit()) #False\n",
    "print('786786'.isdigit()) #True\n",
    "print('abc'.islower()) #True\n",
    "print('Abc'.islower()) #False\n",
    "print('abc123'.islower()) #True\n",
    "print('ABC'.isupper()) #True\n",
    "print('Learning python is Easy'.istitle()) #False\n",
    "print('Learning Python Is Easy'.istitle()) #True\n",
    "print(' '.isspace()) #True"
   ]
  },
  {
   "cell_type": "code",
   "execution_count": 38,
   "metadata": {},
   "outputs": [
    {
     "name": "stdout",
     "output_type": "stream",
     "text": [
      "Non Space Special Character\n"
     ]
    }
   ],
   "source": [
    "s = input(\"Enter Any Character:\")\n",
    "if s.isalnum():\n",
    "    print(\"Alpha Numeric Character\")\n",
    "    if s.isalpha():\n",
    "        print(\"Alphabet Characters:\")\n",
    "        if s.islower():\n",
    "            print(\"Lower case Aplhabet Characters\")\n",
    "        else:\n",
    "            print(\"Upper Case Alphabet Characters\")\n",
    "    else:\n",
    "        print(\"it is Digit\")\n",
    "elif s.isspace():\n",
    "    print(\"It Is Space Characters\")\n",
    "else:\n",
    "    print(\"Non Space Special Character\")"
   ]
  },
  {
   "cell_type": "markdown",
   "metadata": {},
   "source": [
    "## Formatting the Strings:\n",
    "We can format the strings with variable values by using replacement operator {} and format() method."
   ]
  },
  {
   "cell_type": "code",
   "execution_count": 39,
   "metadata": {},
   "outputs": [
    {
     "name": "stdout",
     "output_type": "stream",
     "text": [
      "durga 's salary is 10000 and his age is 48\n",
      "durga 's salary is 10000 and his age is 48\n",
      "durga 's salary is 10000 and his age is 48\n"
     ]
    }
   ],
   "source": [
    "name='durga'\n",
    "salary=10000\n",
    "age=48\n",
    "print(\"{} 's salary is {} and his age is {}\".format(name,salary,age))\n",
    "print(\"{0} 's salary is {1} and his age is {2}\".format(name,salary,age))\n",
    "print(\"{x} 's salary is {y} and his age is {z}\".format(z=age,y=salary,x=name))\n"
   ]
  },
  {
   "cell_type": "markdown",
   "metadata": {},
   "source": [
    "## Important Programs rEgarding String Concept\n",
    "\n",
    "#### Q1. Write a program to reverse the given String\n",
    "- input: durga\n",
    "- output:agrud\n",
    "\n"
   ]
  },
  {
   "cell_type": "code",
   "execution_count": 40,
   "metadata": {},
   "outputs": [
    {
     "name": "stdout",
     "output_type": "stream",
     "text": [
      "mahbuhS\n"
     ]
    }
   ],
   "source": [
    "s=input(\"Enter Some String:\")\n",
    "print(s[::-1])\n"
   ]
  },
  {
   "cell_type": "code",
   "execution_count": 41,
   "metadata": {},
   "outputs": [
    {
     "name": "stdout",
     "output_type": "stream",
     "text": [
      "mahbuhS\n"
     ]
    }
   ],
   "source": [
    "s=input(\"Enter Some String:\")\n",
    "print(''.join(reversed(s)))\n"
   ]
  },
  {
   "cell_type": "code",
   "execution_count": 44,
   "metadata": {},
   "outputs": [
    {
     "name": "stdout",
     "output_type": "stream",
     "text": [
      "mahbuhS\n"
     ]
    }
   ],
   "source": [
    "s=input(\"Enter Some String:\")\n",
    "i=len(s)-1\n",
    "target=''\n",
    "while i>=0:\n",
    "    target=target+s[i]\n",
    "    i=i-1\n",
    "print(target)"
   ]
  },
  {
   "attachments": {},
   "cell_type": "markdown",
   "metadata": {},
   "source": [
    "### Q1. Program to reverse order of words.\n",
    "           - input: Learning Python is very Easy \n",
    "           - output: Easy Very is Python Learning\n",
    "           "
   ]
  },
  {
   "cell_type": "code",
   "execution_count": 20,
   "metadata": {},
   "outputs": [
    {
     "name": "stdout",
     "output_type": "stream",
     "text": [
      "['shubham', 'Rajendra', 'Chaudhari']\n",
      "2\n",
      "['Chaudhari', 'Rajendra', 'shubham']\n",
      "Chaudhari Rajendra shubham\n"
     ]
    }
   ],
   "source": [
    "s =input(\"Enter Some String:\")\n",
    "l= s.split()\n",
    "print(l)\n",
    "l1=[]\n",
    "i=len(l)-1\n",
    "print(i)\n",
    "while i>=0:\n",
    "    l1.append(l[i])\n",
    "    i=i-1\n",
    "print(l1)\n",
    "output=' '.join(l1)\n",
    "print(output)\n",
    "\n"
   ]
  },
  {
   "attachments": {},
   "cell_type": "markdown",
   "metadata": {},
   "source": [
    "### Q3. Program to reverse internal content of each word.\n",
    "- input: Durga Software Solutions\n",
    "- output:agruD erawtfoS snoituloS"
   ]
  },
  {
   "cell_type": "code",
   "execution_count": 2,
   "metadata": {},
   "outputs": [
    {
     "name": "stdout",
     "output_type": "stream",
     "text": [
      "BUHS IRAHDUAHC\n"
     ]
    }
   ],
   "source": [
    "s=input(\"Enter the string:\")\n",
    "l=s.split()\n",
    "l1=[]\n",
    "i=0\n",
    "while i<len(l):\n",
    "    l1.append(l[i][::-1])\n",
    "    i=i+1\n",
    "output=\" \".join(l1)\n",
    "print(output)"
   ]
  },
  {
   "attachments": {},
   "cell_type": "markdown",
   "metadata": {},
   "source": [
    "### 4. Write a program to print characters at odd position and even position for the given string?"
   ]
  },
  {
   "cell_type": "code",
   "execution_count": 3,
   "metadata": {},
   "outputs": [
    {
     "name": "stdout",
     "output_type": "stream",
     "text": [
      "Chauracters at even position: suh rj \n",
      "character at odd Position: hba ae\n"
     ]
    }
   ],
   "source": [
    "#1st way:\n",
    "s=input(\"Enter Some String:\")\n",
    "print(\"Chauracters at even position:\",s[0::2])\n",
    "print(\"character at odd Position:\",s[1::2])"
   ]
  },
  {
   "cell_type": "code",
   "execution_count": 7,
   "metadata": {},
   "outputs": [
    {
     "name": "stdout",
     "output_type": "stream",
     "text": [
      "shubham\n",
      "Characters at Even Position:\n",
      "suhm\n",
      "chaeracters at Odd Position:\n",
      "h,b,a,"
     ]
    }
   ],
   "source": [
    "# 2nd way \n",
    "s= input(\"Enter the String\")\n",
    "print(s)\n",
    "i=0\n",
    "print(\"Characters at Even Position:\")\n",
    "while i<len(s):\n",
    "    print(s[i],end=',')\n",
    "    i=i+2\n",
    "print()\n",
    "print(\"chaeracters at Odd Position:\")\n",
    "i=1\n",
    "while i<len(s):\n",
    "    print(s[i],end=',')\n",
    "    i =i+2"
   ]
  },
  {
   "attachments": {},
   "cell_type": "markdown",
   "metadata": {},
   "source": [
    "### Q5. Program to merge characters of 2 strings into a single string by taking characters alternatively.\n",
    "- s1=\"ravi\"\n",
    "- s2=\"teja\"\n",
    "- output: rtaevjia"
   ]
  },
  {
   "cell_type": "code",
   "execution_count": 6,
   "metadata": {},
   "outputs": [
    {
     "name": "stdout",
     "output_type": "stream",
     "text": [
      "schhuabuh\n"
     ]
    }
   ],
   "source": [
    "s1=input(\"Enter The string:\")\n",
    "s2=input(\"Enter SEcond String:\")\n",
    "output=''\n",
    "i,j=0,0\n",
    "while i<len(s1) or j<len(s2):\n",
    "    if i<len(s1):\n",
    "        output = output + s1[i]\n",
    "        i+=1\n",
    "    if j<len(s2):\n",
    "        output= output+s2[j]\n",
    "        j+=1\n",
    "print(output)"
   ]
  },
  {
   "attachments": {},
   "cell_type": "markdown",
   "metadata": {},
   "source": [
    "### Q6.Write a program to sort the characters of the string and first alphabet symbols followed by numeric values\n",
    "- input: B4A1D3\n",
    "- Output: ABD134"
   ]
  },
  {
   "cell_type": "code",
   "execution_count": 13,
   "metadata": {},
   "outputs": [
    {
     "name": "stdout",
     "output_type": "stream",
     "text": [
      "['1', '3', '4', '4', '6', 'h', 's']\n"
     ]
    },
    {
     "data": {
      "text/plain": [
       "'for x in sorted(s1):\\n    output=output+x\\nfor x in sorted(s2):\\n    output=output+x\\nprint(output)'"
      ]
     },
     "execution_count": 13,
     "metadata": {},
     "output_type": "execute_result"
    }
   ],
   "source": [
    "s=input(\"Enter Some String:\")\n",
    "s1=s2=output=\"\"\n",
    "for x in s:\n",
    "    if x.isalpha():\n",
    "        s1=s1+x\n",
    "    else:\n",
    "        s2=s2+x\n",
    "#output = s1 +s2\n",
    "#print(sorted(output))\n",
    "for x in sorted(s1):\n",
    "    output=output+x\n",
    "for x in sorted(s2):\n",
    "    output=output+x\n",
    "print(output)\n",
    "\n"
   ]
  },
  {
   "attachments": {},
   "cell_type": "markdown",
   "metadata": {},
   "source": [
    "### Q7. Write a program for the following requirement \n",
    "-  a4b3c2\n",
    "-  aaaabbbcc"
   ]
  },
  {
   "cell_type": "code",
   "execution_count": 13,
   "metadata": {},
   "outputs": [
    {
     "name": "stdout",
     "output_type": "stream",
     "text": [
      "aaaabbbcc\n"
     ]
    }
   ],
   "source": [
    "s=input(\"Enter Some String:\")\n",
    "output =\"\"\n",
    "for x in s:\n",
    "    if x.isalpha():\n",
    "        output=output+x\n",
    "        previous=x\n",
    "    else:\n",
    "         output=output+previous*(int(x)-1)\n",
    "print(output)\n"
   ]
  },
  {
   "attachments": {},
   "cell_type": "markdown",
   "metadata": {},
   "source": [
    "## Note: chr(unicode)===>The corresponding character\n",
    " ## ord(character)===>The corresponding unicode value"
   ]
  },
  {
   "attachments": {},
   "cell_type": "markdown",
   "metadata": {},
   "source": [
    "### Q8. Write a program to perform the following activity\n",
    "- input: a4k3b2\n",
    "- output:aeknbd"
   ]
  },
  {
   "cell_type": "code",
   "execution_count": 17,
   "metadata": {},
   "outputs": [
    {
     "name": "stdout",
     "output_type": "stream",
     "text": [
      "aeknbd\n"
     ]
    }
   ],
   "source": [
    "s=input(\"Enter Some String:\")\n",
    "output=\"\"\n",
    "for x in s:\n",
    "    if x.isalpha():\n",
    "        output=output+x\n",
    "        previous=x\n",
    "    else:\n",
    "        output=output+chr(ord(previous)+int(x))\n",
    "print(output)"
   ]
  },
  {
   "attachments": {},
   "cell_type": "markdown",
   "metadata": {},
   "source": [
    "### Q9. Write a program to remove duplicate characters from the given input string?\n",
    "- input: ABCDABBCDABBBCCCDDEEEF\n",
    "- output: ABCDEF"
   ]
  },
  {
   "cell_type": "code",
   "execution_count": 22,
   "metadata": {},
   "outputs": [
    {
     "name": "stdout",
     "output_type": "stream",
     "text": [
      "f\n"
     ]
    }
   ],
   "source": [
    "s=input(\"Enter Some String:\")\n",
    "l=[]\n",
    "for x in s:\n",
    "    if x not in l:\n",
    "        l.append(x)\n",
    "output =\"\".join(l)\n",
    "print(output)"
   ]
  },
  {
   "attachments": {},
   "cell_type": "markdown",
   "metadata": {},
   "source": [
    "### Q10. Write a program to find the number of occurrences of each character present in the given String?\n",
    "- input: ABCABCABBCDE\n",
    "- output: A-3,B-4,C-3,D-1,E-1"
   ]
  },
  {
   "cell_type": "code",
   "execution_count": 26,
   "metadata": {},
   "outputs": [
    {
     "name": "stdout",
     "output_type": "stream",
     "text": [
      "A=3Times\n",
      "B=4Times\n",
      "C=3Times\n",
      "D=1Times\n",
      "E=1Times\n"
     ]
    }
   ],
   "source": [
    "s =input(\"Enter the some string:\")\n",
    "d={}\n",
    "for x in s:\n",
    "    if x in d.keys():\n",
    "        d[x] =d[x]+1   \n",
    "    else:\n",
    "        d[x]=1  \n",
    "for k,v in d.items():\n",
    "    print(\"{}={}Times\".format(k,v))"
   ]
  },
  {
   "cell_type": "markdown",
   "metadata": {},
   "source": [
    "## Formatting the Strings:\n",
    "We can format the strings with variable values by using replacement operator {} and format() method.<br>\n",
    "The main objective of format() method to format string into meaningful output form.<br>\n",
    "\n",
    "Case- 1: Basic Formatting for default, positional and keyword arguments<br>\n",
    "\n",
    "\n",
    "\n",
    "\n"
   ]
  },
  {
   "cell_type": "code",
   "execution_count": 46,
   "metadata": {},
   "outputs": [
    {
     "name": "stdout",
     "output_type": "stream",
     "text": [
      "Rahul 's salary is 10000 and his age is 48\n",
      "Rahul 's salary is 10000 and his age is 48\n",
      "Rahul 's salary is 10000 and his age is 48\n"
     ]
    }
   ],
   "source": [
    "name='Rahul'\n",
    "salary=10000\n",
    "age=48\n",
    "print(\"{} 's salary is {} and his age is {}\".format(name,salary,age))\n",
    "print(\"{0} 's salary is {1} and his age is {2}\".format(name,salary,age))\n",
    "print(\"{x} 's salary is {y} and his age is {z}\".format(z=age,y=salary,x=name))"
   ]
  },
  {
   "cell_type": "markdown",
   "metadata": {},
   "source": [
    "Case-2: Formatting Numbers<br>\n",
    "d--->Decimal IntEger<br>\n",
    "f----->Fixed point number(float).The default precision is 6<br>\n",
    "b-->Binary format<br>\n",
    "o--->Octal Format<br>\n",
    "x-->Hexa Decimal Format(Lower case)<br>\n",
    "X-->Hexa Decimal Format(Upper case)<br>\n"
   ]
  },
  {
   "cell_type": "code",
   "execution_count": 45,
   "metadata": {},
   "outputs": [
    {
     "name": "stdout",
     "output_type": "stream",
     "text": [
      "The intEger number is: 123\n",
      "The intEger number is: 123\n",
      "The intEger number is:   123\n",
      "The intEger number is: 00123\n"
     ]
    }
   ],
   "source": [
    "print(\"The intEger number is: {}\".format(123))\n",
    "print(\"The intEger number is: {:d}\".format(123))\n",
    "print(\"The intEger number is: {:5d}\".format(123))\n",
    "print(\"The intEger number is: {:05d}\".format(123))\n"
   ]
  },
  {
   "cell_type": "code",
   "execution_count": 47,
   "metadata": {},
   "outputs": [
    {
     "name": "stdout",
     "output_type": "stream",
     "text": [
      "The float number is: 123.4567\n",
      "The float number is: 123.456700\n",
      "The float number is:  123.457\n",
      "The float number is: 0123.457\n",
      "The float number is: 0123.450\n",
      "The float number is: 786786123.450\n"
     ]
    }
   ],
   "source": [
    "print(\"The float number is: {}\".format(123.4567))\n",
    "print(\"The float number is: {:f}\".format(123.4567))\n",
    "print(\"The float number is: {:8.3f}\".format(123.4567))\n",
    "print(\"The float number is: {:08.3f}\".format(123.4567))\n",
    "print(\"The float number is: {:08.3f}\".format(123.45))\n",
    "print(\"The float number is: {:08.3f}\".format(786786123.45))\n"
   ]
  },
  {
   "cell_type": "markdown",
   "metadata": {},
   "source": [
    "Note:<br>\n",
    "{:08.3f}<br>\n",
    "Total positions should be minimum 8.<br>\n",
    "After decimal point exactly 3 digits are allowed.If it is less then 0s will be placed in the last positions<br>\n",
    "If total number is < 8 positions then 0 will be placed in MSBs<br>\n",
    "If total number is >8 positions then all intEgral digits will be considered.<br>\n",
    "The extra digits we can take only 0<br>\n",
    "Note: For numbers default alignment is Right Alignment(>)<br>\n",
    "\n",
    "#### Eg-3: Print Decimal value in binary, octal and hexadecimal form"
   ]
  },
  {
   "cell_type": "code",
   "execution_count": 48,
   "metadata": {},
   "outputs": [
    {
     "name": "stdout",
     "output_type": "stream",
     "text": [
      "Binary Form:10011001\n",
      "Octal Form:231\n",
      "Hexa decimal Form:9a\n",
      "Hexa decimal Form:9A\n"
     ]
    }
   ],
   "source": [
    "print(\"Binary Form:{0:b}\".format(153))\n",
    "print(\"Octal Form:{0:o}\".format(153))\n",
    "print(\"Hexa decimal Form:{0:x}\".format(154))\n",
    "print(\"Hexa decimal Form:{0:X}\".format(154))"
   ]
  },
  {
   "cell_type": "markdown",
   "metadata": {},
   "source": [
    "Note: We can represent only int values in binary, octal and hexadecimal and it is not possible for float values.\n",
    "Note:<br>\n",
    "{:5d} It takes an intEger argument and assigns a minimum width of 5.<br>\n",
    "{:8.3f} It takes a float argument and assigns a minimum width of 8 including \".\" and after decimal <br>\n",
    "point excatly 3 digits are allowed with round operation if required<br>\n",
    "{:05d} The blank places can be filled with 0. In this place only 0 allowed<br>\n"
   ]
  },
  {
   "cell_type": "markdown",
   "metadata": {},
   "source": [
    "Case-3: Number formatting for signed numbers<br>\n",
    "While displaying positive numbers,if we want to include + then we have to write {:+d} and {:+f}<br>\n",
    "Using plus for -ve numbers there is no use and for -ve numbers - sign will come automatically.<br>"
   ]
  },
  {
   "cell_type": "code",
   "execution_count": 49,
   "metadata": {},
   "outputs": [
    {
     "name": "stdout",
     "output_type": "stream",
     "text": [
      "int value with sign:+123\n",
      "int value with sign:-123\n",
      "float value with sign:+123.456000\n",
      "float value with sign:-123.456000\n"
     ]
    }
   ],
   "source": [
    "print(\"int value with sign:{:+d}\".format(123))\n",
    "print(\"int value with sign:{:+d}\".format(-123))\n",
    "print(\"float value with sign:{:+f}\".format(123.456))\n",
    "print(\"float value with sign:{:+f}\".format(-123.456))\n"
   ]
  },
  {
   "cell_type": "markdown",
   "metadata": {},
   "source": [
    "Case-4: Number formatting with alignment<br>\n",
    "- <,>,^ and = are used for alignment\n",
    "- <==>Left Alignment to the remaining space\n",
    "- ^===>Center alignment to the remaining space\n",
    "- > ===> Right alignment to the remaining space\n",
    "- = ===>Forces the signed(+) (-) to the left most position\n",
    "- Note: Default Alignment for numbers is Right Alignment."
   ]
  }
 ],
 "metadata": {
  "kernelspec": {
   "display_name": "base",
   "language": "python",
   "name": "python3"
  },
  "language_info": {
   "codemirror_mode": {
    "name": "ipython",
    "version": 3
   },
   "file_extension": ".py",
   "mimetype": "text/x-python",
   "name": "python",
   "nbconvert_exporter": "python",
   "pygments_lexer": "ipython3",
   "version": "3.10.9"
  },
  "orig_nbformat": 4
 },
 "nbformat": 4,
 "nbformat_minor": 2
}
