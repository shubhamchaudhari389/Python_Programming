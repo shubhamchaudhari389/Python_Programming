{
 "cells": [
  {
   "cell_type": "markdown",
   "metadata": {},
   "source": [
    "![Alt text](image.png)"
   ]
  },
  {
   "cell_type": "code",
   "execution_count": 4,
   "metadata": {},
   "outputs": [
    {
     "name": "stdout",
     "output_type": "stream",
     "text": [
      "Welcome TO the Rollercoaster!\n",
      "Sorry, You Have to Grow taller Before you can Ride\n"
     ]
    }
   ],
   "source": [
    "print(\"Welcome TO the Rollercoaster!\")\n",
    "height =int(input(\"What is Your Height in cm\"))\n",
    "\n",
    "if height >= 120:\n",
    "    print(\"You Can Ride The Rollercoster\")\n",
    "else:\n",
    "    print(\"Sorry, You Have to Grow taller Before you can Ride\")"
   ]
  },
  {
   "cell_type": "markdown",
   "metadata": {},
   "source": [
    "Instructions\n",
    "Write a program that works out whether if a given number is an odd or even number.\n",
    "\n",
    "Even numbers can be divided by 2 with no remainder.\n",
    "\n",
    "e.g. 86 is even because 86 ÷ 2 = 43\n",
    "\n",
    "43 does not have any decimal places. Therefore the division is clean.\n",
    "\n",
    "e.g. 59 is odd because 59 ÷ 2 = 29.5\n",
    "\n",
    "29.5 is not a whole number, it has decimal places. Therefore there is a remainder of 0.5, so the division is not clean.\n",
    "\n",
    "The modulo is written as a percentage sign (%) in Python. It gives you the remainder after a division.\n",
    "\n",
    "e.g.\n",
    "\n",
    "6 ÷ 2 = 3 with no remainder.\n",
    "\n",
    "therefore: 6 % 2 = 0\n",
    "\n",
    "5 ÷ 2 = 2 x 2 + 1, remainder is 1.\n",
    "\n",
    "therefore: 5 % 2 = 1\n",
    "\n",
    "14 ÷ 4 = 3 x 4 + 2, remainder is 2.\n",
    "\n",
    "therefore: 14 % 4 = 2\n",
    "\n",
    "Warning your output should match the Example Output format exactly, even the positions of the commas and full stops.\n",
    "\n",
    "Example Input 1\n",
    "43\n",
    "Example Output 1\n",
    "This is an odd number.\n",
    "Example Input 2\n",
    "94\n",
    "Example Output 2\n",
    "This is an even number.\n",
    "e.g. When you hit run, this is what should happen:\n",
    "\n",
    "\n",
    "\n",
    "Hint\n",
    "All even numbers can be divided by 2 with 0 remainder.\n",
    "Try some using the modulo with some odd numbers e.g.\n",
    "3 % 2\n",
    "\n",
    "5 % 2\n",
    "\n",
    "7 % 2\n",
    "\n",
    "Then try using the modulo with some even numbers e.g.\n",
    "\n",
    "4 % 2\n",
    "\n",
    "6 % 2\n",
    "\n",
    "8 % 2\n",
    "\n",
    "See what's in common each time."
   ]
  },
  {
   "cell_type": "code",
   "execution_count": 14,
   "metadata": {},
   "outputs": [
    {
     "name": "stdout",
     "output_type": "stream",
     "text": [
      "this is an even number\n"
     ]
    }
   ],
   "source": [
    "number =int(input(\"Which number do You Want to Check?\"))\n",
    "\n",
    "if  number % 2 == 0:\n",
    "    print(\"This is an even number\")\n",
    "else:\n",
    "    print(\"This is an odd number \")"
   ]
  },
  {
   "cell_type": "markdown",
   "metadata": {},
   "source": [
    "![Alt text](image-1.png)"
   ]
  },
  {
   "cell_type": "code",
   "execution_count": 19,
   "metadata": {},
   "outputs": [
    {
     "name": "stdout",
     "output_type": "stream",
     "text": [
      "Welcome TO the Rollercoaster!\n",
      "You Can Ride The Rollercoster\n",
      "please Pay 7%\n"
     ]
    }
   ],
   "source": [
    "print(\"Welcome TO the Rollercoaster!\")\n",
    "height =int(input(\"What is Your Height in cm\"))\n",
    "\n",
    "if height >= 60:\n",
    "    print(\"You Can Ride The Rollercoster\")\n",
    "    age =int(input(\"What is Your Age\"))\n",
    "    if age <=18:\n",
    "        print(\"please Pay 7%\")\n",
    "    else:\n",
    "        print(\"please pay $12\")\n",
    "else:\n",
    "    print(\"Sorry, You Have to Grow taller Before you can Ride\")"
   ]
  },
  {
   "cell_type": "markdown",
   "metadata": {},
   "source": [
    "![Alt text](image-2.png)"
   ]
  },
  {
   "cell_type": "code",
   "execution_count": 22,
   "metadata": {},
   "outputs": [
    {
     "name": "stdout",
     "output_type": "stream",
     "text": [
      "Welcome TO the Rollercoaster!\n",
      "You Can Ride The Rollercoster\n",
      "Please pay $5\n"
     ]
    }
   ],
   "source": [
    "print(\"Welcome TO the Rollercoaster!\")\n",
    "height =int(input(\"What is Your Height in cm\"))\n",
    "\n",
    "if height >= 60:\n",
    "    print(\"You Can Ride The Rollercoster\")\n",
    "    age =int(input(\"What is Your Age\"))\n",
    "    if age <12:\n",
    "        print(\"Please pay $5\")\n",
    "    elif age <=18:\n",
    "        print(\"please Pay 7%\")\n",
    "    elif age<=18\n",
    "    else:\n",
    "        print(\"please pay $12\")\n",
    "else:\n",
    "    print(\"Sorry, You Have to Grow taller Before you can Ride\")"
   ]
  },
  {
   "cell_type": "markdown",
   "metadata": {},
   "source": [
    "Instructions\n",
    "Write a program that interprets the Body Mass Index (BMI) based on a user's weight and height.\n",
    "\n",
    "It should tell them the interpretation of their BMI based on the BMI value.\n",
    "\n",
    "Under 18.5 they are underweight\n",
    "Over 18.5 but below 25 they have a normal weight\n",
    "Over 25 but below 30 they are slightly overweight\n",
    "Over 30 but below 35 they are obese\n",
    "Above 35 they are clinically obese.\n",
    "\n",
    "\n",
    "![Alt text](image-3.png)\n",
    "\n",
    "The BMI is calculated by dividing a person's weight (in kg) by the square of their height (in m):\n",
    "\n",
    "![Alt text](image-4.png)\n",
    "\n",
    "Warning you should round the result to the nearest whole number. The interpretation message needs to include the words in bold from the interpretations above. e.g. underweight, normal weight, overweight, obese, clinically obese.\n",
    "\n",
    "Example Input\n",
    "weight = 85\n",
    "height = 1.75\n",
    "Example Output\n",
    "85 ÷ (1.75 x 1.75) = 27.755102040816325\n",
    "Your BMI is 28, you are slightly overweight.\n",
    "e.g. When you hit run, this is what should happen:\n",
    "\n",
    "\n",
    "\n",
    "The testing code will check for print output that is formatted like one of the lines below:\n",
    "\n",
    "\"Your BMI is 18, you are underweight.\"\n",
    "\"Your BMI is 22, you have a normal weight.\"\n",
    "\"Your BMI is 28, you are slightly overweight.\"\n",
    "\"Your BMI is 33, you are obese.\"\n",
    "\"Your BMI is 40, you are clinically obese.\"\n",
    "Hint\n",
    "\n",
    "Try to use the exponent operator in your code.\n",
    "Remember to round your result to the nearest whole number.\n",
    "Make sure you include the words in bold from the interpretations."
   ]
  },
  {
   "cell_type": "code",
   "execution_count": null,
   "metadata": {},
   "outputs": [],
   "source": []
  }
 ],
 "metadata": {
  "kernelspec": {
   "display_name": "base",
   "language": "python",
   "name": "python3"
  },
  "language_info": {
   "codemirror_mode": {
    "name": "ipython",
    "version": 3
   },
   "file_extension": ".py",
   "mimetype": "text/x-python",
   "name": "python",
   "nbconvert_exporter": "python",
   "pygments_lexer": "ipython3",
   "version": "3.10.9"
  },
  "orig_nbformat": 4
 },
 "nbformat": 4,
 "nbformat_minor": 2
}
