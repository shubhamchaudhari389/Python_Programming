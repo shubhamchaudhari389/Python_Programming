{
 "cells": [
  {
   "cell_type": "markdown",
   "metadata": {},
   "source": [
    "Instructions\n",
    "Write a program in main.py that prints the same notes from the previous lesson using what you have learnt about the Python print function.\n",
    "\n",
    "Warning: The output in your program should match the example output shown below exactly, character for character, even spaces and symbols should be identical, otherwise the tests won't pass.\n",
    "\n",
    "Example Output\n",
    "After you have written your code, you should run your program and it should print the following:\n",
    "\n",
    "Day 1 - Python Print Function<br>\n",
    "The function is declared like this:<br>\n",
    "print('what to print')<br>\n",
    "e.g. When you hit run, this is what should happen:<br>\n",
    "\n",
    "\n",
    "\n",
    "Test Your Code<br>\n",
    "Check your code is doing what it is supposed to. When you're happy with your code, click submit to check your solution.<br>"
   ]
  },
  {
   "cell_type": "code",
   "execution_count": 1,
   "metadata": {},
   "outputs": [
    {
     "name": "stdout",
     "output_type": "stream",
     "text": [
      "Day 1 - Python Print Function\n",
      "The function is declared like this:\n",
      "print('what to print')\n"
     ]
    }
   ],
   "source": [
    "print(\"Day 1 - Python Print Function\\n\"\n",
    "\"The function is declared like this:\\n\"\n",
    "\"print('what to print')\")"
   ]
  },
  {
   "cell_type": "markdown",
   "metadata": {},
   "source": [
    "nstructions\n",
    "Look at the code in the code editor on the right. There are errors in all of the lines of code. Fix the code so that it runs without errors.\n",
    "\n",
    "Warning: The output in your program should match the example output shown below exactly, character for character, even spaces and symbols should be identical, otherwise the tests won't pass.\n",
    "\n",
    "Example Output<br>\n",
    "When you run your program, it should print the following:<br>\n",
    "\n",
    "Day 1 - String Manipulation<br>\n",
    "String Concatenation is done with the \"+\" sign.<br>\n",
    "e.g. print(\"Hello \" + \"world\")<br>\n",
    "New lines can be created with a backslash and n.<br>\n",
    "e.g. When you hit run, there should be no errors and this is what should happen:<br>\n",
    "\n",
    "\n",
    "\n",
    "Test Your Code<br>\n",
    "Check your code is doing what it is supposed to. When you're happy with your code, click submit to check your solution.<br>"
   ]
  },
  {
   "cell_type": "code",
   "execution_count": 2,
   "metadata": {},
   "outputs": [
    {
     "name": "stdout",
     "output_type": "stream",
     "text": [
      "Day 1 - String Manipulation\n",
      "String Concatenation is done with the \"+\" sign.\n",
      "e.g. print(\"Hello \" + \"world\")\n",
      "New lines can be created with a backslash and n.\n"
     ]
    }
   ],
   "source": [
    "print(\"Day 1 - String Manipulation\")\n",
    "print('String Concatenation is done with the \"+\" sign.')\n",
    "print('e.g. print(\"Hello \" + \"world\")')\n",
    "print(\"New lines can be created with a backslash and n.\")"
   ]
  },
  {
   "cell_type": "markdown",
   "metadata": {},
   "source": [
    "Instructions\n",
    "Write a program that prints the number of characters in a user's name. You might need to Google for a function that calculates the length of a string.\n",
    "\n",
    "e.g.\n",
    "\n",
    "https://www.google.com/search?q=how+to+get+the+length+of+a+string+in+python+stack+overflow\n",
    "\n",
    "Warning. Your program should work for different inputs. e.g. any name that you input.\n",
    "\n",
    "Example Input<br>\n",
    "Angela<br>\n",
    "Example Output<br>\n",
    "6<br>\n",
    "e.g. When you hit run, this is what should happen:<br>\n",
    "\n",
    "\n",
    "\n",
    "Hint<br>\n",
    "You can put functions inside other functions.<br>\n",
    "Don't try to print anything other than the length.<br>\n",
    "Test Your Code<br>\n",
    "Check your code is doing what it is supposed to. When you're happy with your code, click submit to check your solution.<br>"
   ]
  },
  {
   "cell_type": "code",
   "execution_count": 3,
   "metadata": {},
   "outputs": [
    {
     "name": "stdout",
     "output_type": "stream",
     "text": [
      "7\n"
     ]
    }
   ],
   "source": [
    "a=input(\"What is your name? \")\n",
    "print(len(a))"
   ]
  },
  {
   "cell_type": "markdown",
   "metadata": {},
   "source": [
    "Instructions\n",
    "Write a program that adds the digits in a 2 digit number. e.g. if the input was 35, then the output should be 3 + 5 = 8\n",
    "Warning. Do not change the code on lines 1-3. Your program should work for different inputs. e.g. any two-digit number.\n",
    "\n",
    "Example Input<br>\n",
    "39<br>\n",
    "Example Output<br>\n",
    "3 + 9 = 12<br>\n",
    "12<br>\n",
    "e.g. When you hit run, this is what should happen:<br>\n",
    "\n",
    "\n",
    "\n",
    "Hint\n",
    "Try to find out the data type of two_digit_number.<br>\n",
    "Think about what you learnt about subscripting.<br>\n",
    "Think about type conversion.<br>\n",
    "Test Your Code<br>\n",
    "Check your code is doing what it is supposed to. When you're happy with your code, click submit to check your solution.<br>"
   ]
  },
  {
   "cell_type": "code",
   "execution_count": 16,
   "metadata": {},
   "outputs": [
    {
     "name": "stdout",
     "output_type": "stream",
     "text": [
      "11\n"
     ]
    }
   ],
   "source": [
    "two_digit_number = input(\"Type a Two-digit number:\")\n",
    "\n",
    "first_number = two_digit_number[0]\n",
    "second_number = two_digit_number[1]\n",
    "\n",
    "result = int(first_number) + int(second_number)\n",
    "print(result)"
   ]
  },
  {
   "cell_type": "code",
   "execution_count": 19,
   "metadata": {},
   "outputs": [
    {
     "name": "stdout",
     "output_type": "stream",
     "text": [
      "6\n",
      "5\n"
     ]
    }
   ],
   "source": [
    "# 🚨 Don't change the code below 👇\n",
    "a = input(\"a: \")\n",
    "b = input(\"b: \")\n",
    "# 🚨 Don't change the code above 👆\n",
    "\n",
    "####################################\n",
    "#Write your code below this line 👇\n",
    "c = a\n",
    "a = b\n",
    "b = c\n",
    "print(a)\n",
    "print(b)"
   ]
  },
  {
   "cell_type": "markdown",
   "metadata": {},
   "source": []
  },
  {
   "cell_type": "code",
   "execution_count": 22,
   "metadata": {},
   "outputs": [
    {
     "name": "stdout",
     "output_type": "stream",
     "text": [
      "Welcome to the band name Genertors.\n",
      "df\n",
      "fd\n",
      "Your ban=nd name could be dffd\n"
     ]
    }
   ],
   "source": [
    "# Project 1 \n",
    "#Band-name_genrator\n",
    "\n",
    "#1. Create a greeting For Your Program\n",
    "print(\"Welcome to the band name Genertors.\")\n",
    "\n",
    "#2. Ask the user for the city that they grew up in\n",
    "city = input(\"Which city did you grow up in?\\n\")\n",
    "#3. Ask the User for Name of a pet\n",
    "pet = input(\"What is Name of a pet?\\n\")\n",
    "#4. Combine the name of their city and pet nd show them their band name\n",
    "print(\"Your ban=nd name could be \"+ city +\"\"+ pet)"
   ]
  },
  {
   "cell_type": "code",
   "execution_count": null,
   "metadata": {},
   "outputs": [],
   "source": []
  }
 ],
 "metadata": {
  "kernelspec": {
   "display_name": "base",
   "language": "python",
   "name": "python3"
  },
  "language_info": {
   "codemirror_mode": {
    "name": "ipython",
    "version": 3
   },
   "file_extension": ".py",
   "mimetype": "text/x-python",
   "name": "python",
   "nbconvert_exporter": "python",
   "pygments_lexer": "ipython3",
   "version": "3.10.9"
  },
  "orig_nbformat": 4
 },
 "nbformat": 4,
 "nbformat_minor": 2
}
