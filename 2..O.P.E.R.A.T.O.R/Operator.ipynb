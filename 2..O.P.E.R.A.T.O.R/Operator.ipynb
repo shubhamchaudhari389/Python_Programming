{
 "cells": [
  {
   "cell_type": "markdown",
   "metadata": {},
   "source": [
    "# <center>Operators</center>"
   ]
  },
  {
   "cell_type": "markdown",
   "metadata": {},
   "source": [
    "Operator is a symbol that performs certain operations.\n",
    "Python provides the following set of operators\n",
    "\n",
    "1. Arithmetic Operators\n",
    "2. Relational Operators or Comparison Operators\n",
    "3. Logical operators\n",
    "4. Bitwise oeprators\n",
    "5. Assignment operators\n",
    "6. Special operators"
   ]
  },
  {
   "cell_type": "markdown",
   "metadata": {},
   "source": [
    "### 1. Arithmetic Operators:\n",
    "\n",
    "- '+'  ==>Addition\n",
    "- '-'  ==>Subtraction\n",
    "- '*'  ==>Multiplication\n",
    "- '/'  ==>Division operator\n",
    "- '%'  ===>Modulo operator\n",
    "- '//' ==>Floor Division operator\n",
    "- '**' ==>Exponent operator or power operator"
   ]
  },
  {
   "cell_type": "code",
   "execution_count": 1,
   "metadata": {},
   "outputs": [
    {
     "name": "stdout",
     "output_type": "stream",
     "text": [
      "a+b= 12\n",
      "a-b= 8\n",
      "a*b= 20\n",
      "a/b= 5.0\n",
      "a//b= 5\n",
      "a%b= 0\n",
      "a**b= 100\n"
     ]
    }
   ],
   "source": [
    "a=10\n",
    "b=2\n",
    "print('a+b=',a+b)\n",
    "print('a-b=',a-b)\n",
    "print('a*b=',a*b)\n",
    "print('a/b=',a/b)\n",
    "print('a//b=',a//b)\n",
    "print('a%b=',a%b)\n",
    "print('a**b=',a**b) "
   ]
  },
  {
   "cell_type": "code",
   "execution_count": 2,
   "metadata": {},
   "outputs": [
    {
     "name": "stdout",
     "output_type": "stream",
     "text": [
      "a+b= 12.5\n",
      "a-b= 8.5\n",
      "a*b= 21.0\n",
      "a/b= 5.25\n",
      "a//b= 5.0\n",
      "a%b= 0.5\n",
      "a**b= 110.25\n"
     ]
    }
   ],
   "source": [
    "a = 10.5\n",
    "b=2\n",
    "\n",
    "print('a+b=',a+b)\n",
    "print('a-b=',a-b)\n",
    "print('a*b=',a*b)\n",
    "print('a/b=',a/b)\n",
    "print('a//b=',a//b)\n",
    "print('a%b=',a%b)\n",
    "print('a**b=',a**b) "
   ]
  },
  {
   "cell_type": "code",
   "execution_count": 3,
   "metadata": {},
   "outputs": [
    {
     "name": "stdout",
     "output_type": "stream",
     "text": [
      "5.0\n",
      "5\n",
      "5.0\n",
      "5.0\n"
     ]
    }
   ],
   "source": [
    "print(10/2)\n",
    "print(10//2)\n",
    "print(10.0/2)\n",
    "print(10.0//2)"
   ]
  },
  {
   "cell_type": "markdown",
   "metadata": {},
   "source": [
    "<u>Note:</u> <br>\n",
    "\n",
    "- / operator always performs floating point arithmetic. Hence it will always returns float value.\n",
    "\n",
    "- But Floor division (//) can perform both floating point and integral arithmetic. If arguments are int type then result is int type. If atleast one argument is float type then result is float type"
   ]
  },
  {
   "cell_type": "markdown",
   "metadata": {},
   "source": [
    "**Note:** <br>\n",
    "We can use +,* operators for str type also.\n",
    "If we want to use + operator for str type then compulsory both arguments should be str\n",
    "type only otherwise we will get error."
   ]
  },
  {
   "cell_type": "code",
   "execution_count": 4,
   "metadata": {},
   "outputs": [],
   "source": [
    "# \"Pratik\"+10 \n",
    "# TypeError: can only concatenate str (not \"int\") to str\n"
   ]
  },
  {
   "cell_type": "code",
   "execution_count": 5,
   "metadata": {},
   "outputs": [
    {
     "data": {
      "text/plain": [
       "'Avinash10'"
      ]
     },
     "execution_count": 5,
     "metadata": {},
     "output_type": "execute_result"
    }
   ],
   "source": [
    "\"Avinash\"+\"10\" "
   ]
  },
  {
   "cell_type": "markdown",
   "metadata": {},
   "source": [
    "If we use * operator for str type then compulsory one argument should be int and other argument should be str type.\n",
    "\n",
    "2*\"Avinash\"<br>\n",
    "\"Rahul\"*2<br>\n",
    "\n",
    "2.5*\"Rahul\" ==>TypeError: can't multiply sequence by non-int of type 'float'<br>\n",
    "\"Rahul\"*\"Rahul\"==>TypeError: can't multiply sequence by non-int of type 'str'<br>\n",
    "\n",
    "'+'====>String concatenation operator<br>\n",
    "'*'===+>String multiplication operator\n",
    "\n",
    "**Note:** <br>\n",
    "For any number x,\n",
    "x/0 and x%0 always raises \"ZeroDivisionError\"\n",
    "\n",
    "10/0\n",
    "10.0/0\n"
   ]
  },
  {
   "cell_type": "markdown",
   "metadata": {},
   "source": [
    "### 2.Relational Operators:\n",
    "\n",
    ">> '>,>=,<,<='"
   ]
  },
  {
   "cell_type": "code",
   "execution_count": 6,
   "metadata": {},
   "outputs": [
    {
     "name": "stdout",
     "output_type": "stream",
     "text": [
      "a > b is  False\n",
      "a >= b is  False\n",
      "a < b is  True\n",
      "a <= b is  True\n"
     ]
    }
   ],
   "source": [
    "a=10\n",
    "b=20\n",
    "print(\"a > b is \",a>b)\n",
    "print(\"a >= b is \",a>=b)\n",
    "print(\"a < b is \",a<b)\n",
    "print(\"a <= b is \",a<=b) "
   ]
  },
  {
   "cell_type": "code",
   "execution_count": 7,
   "metadata": {},
   "outputs": [
    {
     "name": "stdout",
     "output_type": "stream",
     "text": [
      "a > b is  False\n",
      "a >= b is  True\n",
      "a < b is  False\n",
      "a <= b is  True\n"
     ]
    }
   ],
   "source": [
    "# We can apply relational operators for str types also\n",
    "\n",
    "a=\"durga\"\n",
    "b=\"durga\"\n",
    "print(\"a > b is \",a>b)\n",
    "print(\"a >= b is \",a>=b)\n",
    "print(\"a < b is \",a<b)\n",
    "print(\"a <= b is \",a<=b)"
   ]
  },
  {
   "cell_type": "code",
   "execution_count": 8,
   "metadata": {},
   "outputs": [
    {
     "name": "stdout",
     "output_type": "stream",
     "text": [
      "False\n",
      "True\n",
      "True\n",
      "False\n"
     ]
    }
   ],
   "source": [
    "print(True>True) \n",
    "print(True>=True) \n",
    "print(10 >True) \n",
    "print(False > True) \n",
    "#print(10>'Rahul') # TypeError: '>' not supported between instances of 'int' and 'str'"
   ]
  },
  {
   "cell_type": "code",
   "execution_count": 9,
   "metadata": {},
   "outputs": [
    {
     "name": "stdout",
     "output_type": "stream",
     "text": [
      "a is not greater than b\n"
     ]
    }
   ],
   "source": [
    "a=10\n",
    "b=20\n",
    "if(a>b):\n",
    "    print(\"a is greater than b\")\n",
    "else:\n",
    "    print(\"a is not greater than b\") "
   ]
  },
  {
   "cell_type": "markdown",
   "metadata": {},
   "source": [
    "<u>Note:</u> <br>\n",
    "Chaining of relational operators is possible. In the chaining, if all comparisons returns True then only result is True. If atleast one comparison returns False then the result is False"
   ]
  },
  {
   "cell_type": "code",
   "execution_count": 11,
   "metadata": {},
   "outputs": [
    {
     "name": "stdout",
     "output_type": "stream",
     "text": [
      "True\n",
      "True\n",
      "True\n",
      "False\n"
     ]
    }
   ],
   "source": [
    "print(10<20) \n",
    "print(10<20<30)\n",
    "print(10<20<30<40) \n",
    "print(10<20<30<40>50)\n"
   ]
  },
  {
   "cell_type": "markdown",
   "metadata": {},
   "source": [
    "### 3.equality operators:\n",
    "\n",
    "== , !=\n",
    "\n",
    "We can apply these operators for any type even for incompatible types also\n"
   ]
  },
  {
   "cell_type": "code",
   "execution_count": 16,
   "metadata": {},
   "outputs": [
    {
     "name": "stdout",
     "output_type": "stream",
     "text": [
      "False\n",
      "True\n",
      "False\n",
      "True\n",
      "False\n",
      "False\n"
     ]
    }
   ],
   "source": [
    "print(10==20)\n",
    "print(10!=20)\n",
    "print(10==True)\n",
    "print(\"Rahul\"==\"Rahul\")\n",
    "print(\"Avinash\"==\"Vishal\")\n",
    "print(10==\"durga\")"
   ]
  },
  {
   "cell_type": "markdown",
   "metadata": {},
   "source": [
    "**Note:**  Chaining concept is applicable for equality operators. If atleast one comparison returns False then the result is False. otherwise the result is True.\n"
   ]
  },
  {
   "cell_type": "code",
   "execution_count": 24,
   "metadata": {},
   "outputs": [
    {
     "data": {
      "text/plain": [
       "False"
      ]
     },
     "execution_count": 24,
     "metadata": {},
     "output_type": "execute_result"
    }
   ],
   "source": [
    "10==20==30==40 "
   ]
  },
  {
   "cell_type": "code",
   "execution_count": 25,
   "metadata": {},
   "outputs": [
    {
     "data": {
      "text/plain": [
       "True"
      ]
     },
     "execution_count": 25,
     "metadata": {},
     "output_type": "execute_result"
    }
   ],
   "source": [
    "10==10==10==10 "
   ]
  },
  {
   "cell_type": "markdown",
   "metadata": {},
   "source": [
    "### 4.Logical Operators:\n",
    "\n",
    "and, or ,not <br>\n",
    "We can apply for all types."
   ]
  },
  {
   "attachments": {
    "image.png": {
     "image/png": "[encoded data removed]"
    }
   },
   "cell_type": "markdown",
   "metadata": {},
   "source": [
    "#### For boolean types behaviour:\n",
    "\n",
    "- and ==>If both arguments are True then only result is True <br>\n",
    "- or  ==>If atleast one arugemnt is True then result is True <br>\n",
    "- not ==>complement\n",
    "\n",
    "![image.png](attachment:image.png)\n",
    "\n",
    "- Note : <br>\n",
    "0 is False<br>\n",
    "1 is True\n"
   ]
  },
  {
   "cell_type": "code",
   "execution_count": 17,
   "metadata": {},
   "outputs": [
    {
     "data": {
      "text/plain": [
       "False"
      ]
     },
     "execution_count": 17,
     "metadata": {},
     "output_type": "execute_result"
    }
   ],
   "source": [
    "True and False"
   ]
  },
  {
   "cell_type": "code",
   "execution_count": 18,
   "metadata": {},
   "outputs": [
    {
     "data": {
      "text/plain": [
       "True"
      ]
     },
     "execution_count": 18,
     "metadata": {},
     "output_type": "execute_result"
    }
   ],
   "source": [
    "True or False"
   ]
  },
  {
   "cell_type": "code",
   "execution_count": 19,
   "metadata": {},
   "outputs": [
    {
     "data": {
      "text/plain": [
       "True"
      ]
     },
     "execution_count": 19,
     "metadata": {},
     "output_type": "execute_result"
    }
   ],
   "source": [
    "not False "
   ]
  },
  {
   "cell_type": "markdown",
   "metadata": {},
   "source": [
    "#### For non-boolean types behaviour:\n",
    "\n",
    "- 0 means False <br>\n",
    "- non-zero means True<br>\n",
    "- empty string is always treated as False"
   ]
  },
  {
   "cell_type": "markdown",
   "metadata": {},
   "source": [
    "#### x and y:\n",
    "\n",
    "==>if x is evaluates to false return x otherwise return y"
   ]
  },
  {
   "cell_type": "code",
   "execution_count": 31,
   "metadata": {},
   "outputs": [
    {
     "data": {
      "text/plain": [
       "20"
      ]
     },
     "execution_count": 31,
     "metadata": {},
     "output_type": "execute_result"
    }
   ],
   "source": [
    "10 and 20\n"
   ]
  },
  {
   "cell_type": "code",
   "execution_count": 32,
   "metadata": {},
   "outputs": [
    {
     "data": {
      "text/plain": [
       "0"
      ]
     },
     "execution_count": 32,
     "metadata": {},
     "output_type": "execute_result"
    }
   ],
   "source": [
    "0 and 20\n",
    "\n",
    "# If first argument is zero then result is zero otherwise result is y"
   ]
  },
  {
   "cell_type": "markdown",
   "metadata": {},
   "source": [
    "#### x or y:\n",
    "If x evaluates to True then result is x otherwise result is y"
   ]
  },
  {
   "cell_type": "code",
   "execution_count": 33,
   "metadata": {},
   "outputs": [
    {
     "data": {
      "text/plain": [
       "10"
      ]
     },
     "execution_count": 33,
     "metadata": {},
     "output_type": "execute_result"
    }
   ],
   "source": [
    "10 or 20 \n"
   ]
  },
  {
   "cell_type": "code",
   "execution_count": 34,
   "metadata": {},
   "outputs": [
    {
     "data": {
      "text/plain": [
       "20"
      ]
     },
     "execution_count": 34,
     "metadata": {},
     "output_type": "execute_result"
    }
   ],
   "source": [
    "0 or 20"
   ]
  },
  {
   "cell_type": "markdown",
   "metadata": {},
   "source": [
    "#### not x:\n",
    "If x is evalutates to False then result is True otherwise False"
   ]
  },
  {
   "cell_type": "code",
   "execution_count": 35,
   "metadata": {},
   "outputs": [
    {
     "data": {
      "text/plain": [
       "False"
      ]
     },
     "execution_count": 35,
     "metadata": {},
     "output_type": "execute_result"
    }
   ],
   "source": [
    "not 10 "
   ]
  },
  {
   "cell_type": "code",
   "execution_count": 36,
   "metadata": {},
   "outputs": [
    {
     "data": {
      "text/plain": [
       "True"
      ]
     },
     "execution_count": 36,
     "metadata": {},
     "output_type": "execute_result"
    }
   ],
   "source": [
    "not 0"
   ]
  },
  {
   "cell_type": "code",
   "execution_count": 1,
   "metadata": {},
   "outputs": [
    {
     "data": {
      "text/plain": [
       "'Avinash'"
      ]
     },
     "execution_count": 1,
     "metadata": {},
     "output_type": "execute_result"
    }
   ],
   "source": [
    "\"Avi\" and \"Avinash\" "
   ]
  },
  {
   "cell_type": "code",
   "execution_count": 2,
   "metadata": {},
   "outputs": [
    {
     "data": {
      "text/plain": [
       "''"
      ]
     },
     "execution_count": 2,
     "metadata": {},
     "output_type": "execute_result"
    }
   ],
   "source": [
    "\"\" and \"Avinash\" "
   ]
  },
  {
   "cell_type": "code",
   "execution_count": 3,
   "metadata": {},
   "outputs": [
    {
     "data": {
      "text/plain": [
       "''"
      ]
     },
     "execution_count": 3,
     "metadata": {},
     "output_type": "execute_result"
    }
   ],
   "source": [
    "\"Rahul\" and \"\""
   ]
  },
  {
   "cell_type": "code",
   "execution_count": 4,
   "metadata": {},
   "outputs": [
    {
     "data": {
      "text/plain": [
       "'Pratik'"
      ]
     },
     "execution_count": 4,
     "metadata": {},
     "output_type": "execute_result"
    }
   ],
   "source": [
    "\"\" or \"Pratik\""
   ]
  },
  {
   "cell_type": "code",
   "execution_count": 5,
   "metadata": {},
   "outputs": [
    {
     "data": {
      "text/plain": [
       "'Pratik'"
      ]
     },
     "execution_count": 5,
     "metadata": {},
     "output_type": "execute_result"
    }
   ],
   "source": [
    "\"Pratik\" or \"\""
   ]
  },
  {
   "cell_type": "code",
   "execution_count": 6,
   "metadata": {},
   "outputs": [
    {
     "data": {
      "text/plain": [
       "True"
      ]
     },
     "execution_count": 6,
     "metadata": {},
     "output_type": "execute_result"
    }
   ],
   "source": [
    "not \"\""
   ]
  },
  {
   "cell_type": "code",
   "execution_count": 7,
   "metadata": {},
   "outputs": [
    {
     "data": {
      "text/plain": [
       "False"
      ]
     },
     "execution_count": 7,
     "metadata": {},
     "output_type": "execute_result"
    }
   ],
   "source": [
    "not \"AVi\""
   ]
  },
  {
   "cell_type": "markdown",
   "metadata": {},
   "source": [
    "**Bitwise Operators:**\n",
    "\n",
    "We can apply these operators bitwise.\n",
    "These operators are applicable only for int and boolean types.\n",
    "By mistake if we are trying to apply for any other type then we will get Error.\n",
    "\n",
    "&,|,^,~,<<,>>"
   ]
  },
  {
   "cell_type": "code",
   "execution_count": 8,
   "metadata": {},
   "outputs": [
    {
     "name": "stdout",
     "output_type": "stream",
     "text": [
      "4\n"
     ]
    }
   ],
   "source": [
    "print(4&5)"
   ]
  },
  {
   "cell_type": "code",
   "execution_count": 10,
   "metadata": {},
   "outputs": [],
   "source": [
    "# print(10.5 & 5.6)\n",
    "# TypeError: unsupported operand type(s) for &: 'float' and 'float"
   ]
  },
  {
   "cell_type": "code",
   "execution_count": 11,
   "metadata": {},
   "outputs": [
    {
     "name": "stdout",
     "output_type": "stream",
     "text": [
      "True\n"
     ]
    }
   ],
   "source": [
    "print(True & True) "
   ]
  },
  {
   "cell_type": "markdown",
   "metadata": {},
   "source": [
    "& ==> If both bits are 1 then only result is 1 otherwise result is 0\n",
    "\n",
    "| ==> If atleast one bit is 1 then result is 1 otherwise result is 0\n",
    "\n",
    "^ ==>If bits are different then only result is 1 otherwise result is 0\n",
    "\n",
    "~ ==>bitwise complement operator\n",
    "\n",
    " 1==>0 & 0==>1\n",
    "\n",
    "<< ==>Bitwise Left shift\n",
    "\n",
    ">> ==>Bitwise Right Shift"
   ]
  },
  {
   "cell_type": "code",
   "execution_count": 12,
   "metadata": {},
   "outputs": [
    {
     "name": "stdout",
     "output_type": "stream",
     "text": [
      "4\n"
     ]
    }
   ],
   "source": [
    "print(4&5)"
   ]
  },
  {
   "cell_type": "code",
   "execution_count": 13,
   "metadata": {},
   "outputs": [
    {
     "name": "stdout",
     "output_type": "stream",
     "text": [
      "5\n"
     ]
    }
   ],
   "source": [
    "print(4|5) "
   ]
  },
  {
   "cell_type": "code",
   "execution_count": 14,
   "metadata": {},
   "outputs": [
    {
     "name": "stdout",
     "output_type": "stream",
     "text": [
      "1\n"
     ]
    }
   ],
   "source": [
    "print(4^5) "
   ]
  },
  {
   "attachments": {
    "image.png": {
     "image/png": "[encoded data removed]"
    }
   },
   "cell_type": "markdown",
   "metadata": {},
   "source": [
    "![image.png](attachment:image.png)"
   ]
  },
  {
   "cell_type": "markdown",
   "metadata": {},
   "source": [
    "### bitwise complement operator(~):\n",
    "We have to apply complement for total bits.<br>\n",
    "\n",
    "Eg: print(~5) ==>-6<br>\n",
    "\n",
    "Note:<br>\n",
    "The most significant bit acts as sign bit. 0 value represents +ve number where as 1 represents -ve value.<br>\n",
    "\n",
    "positive numbers will be repesented directly in the memory where as -ve numbers will be represented indirectly in 2's complement form."
   ]
  },
  {
   "attachments": {
    "image.png": {
     "image/png": "[encoded data removed]"
    }
   },
   "cell_type": "markdown",
   "metadata": {},
   "source": [
    "### Shift Operators:\n",
    "\n",
    "<u><< Left shift operator </u> <br>\n",
    "After shifting the empty cells we have to fill with zero\n",
    "\n",
    "print(10<<2)==>40\n",
    "\n",
    "![image.png](attachment:image.png)"
   ]
  },
  {
   "attachments": {
    "image.png": {
     "image/png": "[encoded data removed]"
    }
   },
   "cell_type": "markdown",
   "metadata": {},
   "source": [
    "<u>>> Right Shift operator</u><br>\n",
    "\n",
    "After shifting the empty cells we have to fill with sign bit.( 0 for +ve and 1 for -ve)\n",
    "\n",
    " print(10>>2) ==>2\n",
    "\n",
    " ![image.png](attachment:image.png)"
   ]
  },
  {
   "cell_type": "code",
   "execution_count": 15,
   "metadata": {},
   "outputs": [
    {
     "name": "stdout",
     "output_type": "stream",
     "text": [
      "False\n",
      "True\n",
      "True\n",
      "-2\n",
      "4\n",
      "0\n"
     ]
    }
   ],
   "source": [
    "print(True & False) \n",
    "print(True | False) \n",
    "print(True ^ False) \n",
    "print(~True) \n",
    "print(True<<2) \n",
    "print(True>>2)"
   ]
  },
  {
   "cell_type": "markdown",
   "metadata": {},
   "source": [
    "**Assignment Operators:**\n",
    "\n",
    "We can use assignment operator to assign value to the variable.<br>\n",
    "Eg:<br>\n",
    "x=10<br>\n",
    "\n",
    "We can combine asignment operator with some other operator to form compound assignment operator.<br>\n",
    "Eg: x+=10 ====> x = x+10<br>\n",
    "\n",
    " The following is the list of all possible compound assignment operators in Python<br>\n",
    " +=<br>\n",
    " -=<br>\n",
    " *=<br>\n",
    " /=<br>\n",
    " %=<br>\n",
    " //=<br>\n",
    " **=<br>\n",
    " &=<br>\n",
    " |=<br>\n",
    " ^=<br>\n",
    "'>>=<br>\n",
    " <<=<br>"
   ]
  },
  {
   "cell_type": "code",
   "execution_count": 16,
   "metadata": {},
   "outputs": [
    {
     "name": "stdout",
     "output_type": "stream",
     "text": [
      "30\n"
     ]
    }
   ],
   "source": [
    "x=10\n",
    "x+=20\n",
    "print(x) "
   ]
  },
  {
   "cell_type": "code",
   "execution_count": 52,
   "metadata": {},
   "outputs": [
    {
     "name": "stdout",
     "output_type": "stream",
     "text": [
      "0\n"
     ]
    }
   ],
   "source": [
    "x=10\n",
    "x&=5\n",
    "print(x) "
   ]
  },
  {
   "cell_type": "markdown",
   "metadata": {},
   "source": [
    "### Ternary Operator:\n",
    "\n",
    "Syntax:<br>\n",
    "x = firstValue if condition else secondValue<br>\n",
    "\n",
    "If condition is True then firstValue will be considered else secondValue will be considered.<br>\n"
   ]
  },
  {
   "cell_type": "code",
   "execution_count": 17,
   "metadata": {},
   "outputs": [
    {
     "name": "stdout",
     "output_type": "stream",
     "text": [
      "30\n"
     ]
    }
   ],
   "source": [
    "a,b=10,20\n",
    "x=30 if a<b else 40\n",
    "print(x)"
   ]
  },
  {
   "cell_type": "code",
   "execution_count": 18,
   "metadata": {},
   "outputs": [
    {
     "name": "stdout",
     "output_type": "stream",
     "text": [
      "Minimum Value: 11\n"
     ]
    }
   ],
   "source": [
    "#Eg 2: Read two numbers from the keyboard and print minimum value\n",
    "\n",
    "a=int(input(\"Enter First Number:\"))\n",
    "b=int(input(\"Enter Second Number:\"))\n",
    "min=a if a<b else b\n",
    "print(\"Minimum Value:\",min) "
   ]
  },
  {
   "cell_type": "markdown",
   "metadata": {},
   "source": [
    "**Note:** Nesting of ternary operator is possible."
   ]
  },
  {
   "cell_type": "code",
   "execution_count": 19,
   "metadata": {},
   "outputs": [
    {
     "name": "stdout",
     "output_type": "stream",
     "text": [
      "Minimum Value: 11\n"
     ]
    }
   ],
   "source": [
    "#Q. Program for minimum of 3 numbers\n",
    "a=int(input(\"Enter First Number:\"))\n",
    "b=int(input(\"Enter Second Number:\"))\n",
    "c=int(input(\"Enter Third Number:\"))\n",
    "min=a if a<b and a<c else b if b<c else c\n",
    "print(\"Minimum Value:\",min) "
   ]
  },
  {
   "cell_type": "code",
   "execution_count": 20,
   "metadata": {},
   "outputs": [
    {
     "name": "stdout",
     "output_type": "stream",
     "text": [
      "Maximum Value: 13\n"
     ]
    }
   ],
   "source": [
    "#Q. Program for maximum of 3 numbers\n",
    "a=int(input(\"Enter First Number:\"))\n",
    "b=int(input(\"Enter Second Number:\"))\n",
    "c=int(input(\"Enter Third Number:\"))\n",
    "max=a if a>b and a>c else b if b>c else c\n",
    "print(\"Maximum Value:\",max) "
   ]
  },
  {
   "cell_type": "code",
   "execution_count": 21,
   "metadata": {},
   "outputs": [
    {
     "name": "stdout",
     "output_type": "stream",
     "text": [
      "First Number is Less than Second Number\n"
     ]
    }
   ],
   "source": [
    "a=int(input(\"Enter First Number:\"))\n",
    "b=int(input(\"Enter Second Number:\"))\n",
    "print(\"Both numbers are equal\" if a==b else \"First Number is Less than Second Number\" if\n",
    "a<b else \"First Number Greater than Second Number\") "
   ]
  },
  {
   "cell_type": "markdown",
   "metadata": {},
   "source": [
    "### Special operators:\n",
    "Python defines the following 2 special operators\n",
    "1. Identity Operators\n",
    "2. Membership operators\n",
    "\n",
    "1. Identity Operators\n",
    "\n",
    "We can use identity operators for address comparison.\n",
    "2 identity operators are available\n",
    "1. is\n",
    "2. is not\n",
    "\n",
    "r1 is r2 returns True if both r1 and r2 are pointing to the same object\n",
    "r1 is not r2 returns True if both r1 and r2 are not pointing to the same object\n"
   ]
  },
  {
   "cell_type": "code",
   "execution_count": 58,
   "metadata": {},
   "outputs": [
    {
     "name": "stdout",
     "output_type": "stream",
     "text": [
      "True\n",
      "True\n"
     ]
    }
   ],
   "source": [
    "a=10\n",
    "b=10\n",
    "print(a is b) \n",
    "x=True\n",
    "y=True\n",
    "print( x is y) "
   ]
  },
  {
   "cell_type": "code",
   "execution_count": 2,
   "metadata": {},
   "outputs": [
    {
     "name": "stdout",
     "output_type": "stream",
     "text": [
      "1791259030448\n",
      "1791259030448\n",
      "True\n"
     ]
    }
   ],
   "source": [
    "a=\"Rahul\"\n",
    "b=\"Rahul\"\n",
    "print(id(a))\n",
    "print(id(b))\n",
    "print(a is b) "
   ]
  },
  {
   "cell_type": "code",
   "execution_count": 3,
   "metadata": {},
   "outputs": [
    {
     "name": "stdout",
     "output_type": "stream",
     "text": [
      "1791257980992\n",
      "1791259030400\n",
      "False\n",
      "True\n",
      "True\n"
     ]
    }
   ],
   "source": [
    "list1=[\"one\",\"two\",\"three\"]\n",
    "list2=[\"one\",\"two\",\"three\"]\n",
    "print(id(list1))\n",
    "print(id(list2))\n",
    "print(list1 is list2) \n",
    "print(list1 is not list2) \n",
    "print(list1 == list2)\n"
   ]
  },
  {
   "cell_type": "markdown",
   "metadata": {},
   "source": [
    "\n",
    "**Note:**<br>\n",
    "We can use is operator for address comparison where as == operator for content comparison.\n"
   ]
  },
  {
   "cell_type": "markdown",
   "metadata": {},
   "source": [
    "**2. Membership operators:**<br>\n",
    "We can use Membership operators to check whether the given object present in the given collection.(It may be String,List,Set,Tuple or Dict)\n",
    "\n",
    "**in** ===> Returns True if the given object present in the specified Collection\n",
    "\n",
    "**not in** ===>  Retruns True if the given object not present in the specified Collection"
   ]
  },
  {
   "cell_type": "code",
   "execution_count": 4,
   "metadata": {},
   "outputs": [
    {
     "name": "stdout",
     "output_type": "stream",
     "text": [
      "True\n",
      "False\n",
      "True\n",
      "True\n"
     ]
    }
   ],
   "source": [
    "x=\"hello learning Python is very easy!!!\"\n",
    "print('h' in x) \n",
    "print('d' in x) \n",
    "print('d' not in x) \n",
    "print('Python' in x) "
   ]
  },
  {
   "cell_type": "code",
   "execution_count": 5,
   "metadata": {},
   "outputs": [
    {
     "name": "stdout",
     "output_type": "stream",
     "text": [
      "True\n",
      "False\n",
      "True\n"
     ]
    }
   ],
   "source": [
    "list1=[\"sunny\",\"bunny\",\"chinny\",\"pinny\"]\n",
    "print(\"sunny\" in list1) \n",
    "print(\"tunny\" in list1) \n",
    "print(\"tunny\" not in list1)"
   ]
  },
  {
   "cell_type": "markdown",
   "metadata": {},
   "source": [
    "**Operator Precedence:**<br >\n",
    "If multiple operators present then which operator will be evaluated first is decided by operator precedence.\n",
    "\n",
    "Eg:\n",
    " print(3+10*2) ===> 23\n",
    " print((3+10)*2) ===> 26\n",
    "\n",
    " The following list describes operator precedence in Python\n",
    "\n",
    "- () ==> Parenthesis\n",
    "- ** ==> exponential operator\n",
    "- ~,- ==> Bitwise complement operator,unary minus operator\n",
    "- *,/,%,// ==> multiplication,division,modulo,floor division\n",
    "- +,- ==> addition,subtraction\n",
    "- <<,>> ===> Left and Right Shift\n",
    "- & ==> bitwise And\n",
    "- ^ ==> Bitwise X-OR\n",
    "- | ==> Bitwise OR\n",
    "- '>,>=,<,<=, ==, !=  ==>Relational or Comparison operators\n",
    "- =,+=,-=,*=... ==>Assignment operators\n",
    "- is , is not ==> Identity Operators\n",
    "- in , not in ==> Membership operators\n",
    "- not ==> Logical not\n",
    "- and ==> Logical and\n",
    "- or ==> Logical or"
   ]
  },
  {
   "cell_type": "code",
   "execution_count": 6,
   "metadata": {},
   "outputs": [
    {
     "name": "stdout",
     "output_type": "stream",
     "text": [
      "100.0\n",
      "100.0\n",
      "70.0\n"
     ]
    }
   ],
   "source": [
    "a=30\n",
    "b=20\n",
    "c=10\n",
    "d=5\n",
    "print((a+b)*c/d) \n",
    "print((a+b)*(c/d)) \n",
    "print(a+(b*c)/d)"
   ]
  },
  {
   "cell_type": "markdown",
   "metadata": {},
   "source": [
    "<center> Mathematical Functions (math Module) <center>\n",
    "- A Module is collection of functions, variables and classes etc.<br>\n",
    "- math is a module that contains several functions to perform mathematical operations\n",
    "- If we want to use any module in Python, first we have to import that module.\n",
    "\n",
    "> import math\n",
    "Once we import a module then we can call any function of that module."
   ]
  },
  {
   "cell_type": "code",
   "execution_count": 7,
   "metadata": {},
   "outputs": [
    {
     "name": "stdout",
     "output_type": "stream",
     "text": [
      "4.0\n",
      "3.141592653589793\n"
     ]
    }
   ],
   "source": [
    "import math\n",
    "print(math.sqrt(16))\n",
    "print(math.pi)"
   ]
  },
  {
   "cell_type": "markdown",
   "metadata": {},
   "source": [
    "We can create alias name by using as keyword."
   ]
  },
  {
   "cell_type": "code",
   "execution_count": 8,
   "metadata": {},
   "outputs": [],
   "source": [
    "import math as m"
   ]
  },
  {
   "cell_type": "markdown",
   "metadata": {},
   "source": [
    "Once we create alias name, by using that we can access functions and variables of that module"
   ]
  },
  {
   "cell_type": "code",
   "execution_count": 9,
   "metadata": {},
   "outputs": [
    {
     "name": "stdout",
     "output_type": "stream",
     "text": [
      "4.0\n",
      "3.141592653589793\n"
     ]
    }
   ],
   "source": [
    "import math as m\n",
    "print(m.sqrt(16))\n",
    "print(m.pi)\n"
   ]
  },
  {
   "cell_type": "markdown",
   "metadata": {},
   "source": [
    "We can import a particular member of a module explicitly as follows"
   ]
  },
  {
   "cell_type": "code",
   "execution_count": 10,
   "metadata": {},
   "outputs": [],
   "source": [
    "from math import sqrt\n",
    "from math import sqrt,pi\n"
   ]
  },
  {
   "cell_type": "markdown",
   "metadata": {},
   "source": [
    "If we import a member explicitly then it is not required to use module name while accessing"
   ]
  },
  {
   "cell_type": "code",
   "execution_count": 11,
   "metadata": {},
   "outputs": [
    {
     "name": "stdout",
     "output_type": "stream",
     "text": [
      "4.0\n",
      "3.141592653589793\n",
      "3.141592653589793\n"
     ]
    }
   ],
   "source": [
    "from math import sqrt,pi\n",
    "print(sqrt(16))\n",
    "print(pi)\n",
    "print(math.pi) "
   ]
  },
  {
   "cell_type": "markdown",
   "metadata": {},
   "source": [
    "### important functions of math module:\n",
    "- ceil(x)\n",
    "- floor(x)\n",
    "- pow(x,y)\n",
    "- factorial(x)\n",
    "- trunc(x)\n",
    "- gcd(x,y)\n",
    "- sin(x)\n",
    "- cos(x)\n",
    "- tan(x)"
   ]
  },
  {
   "cell_type": "markdown",
   "metadata": {},
   "source": [
    "### important variables of math module:\n",
    "pi3.14 <br>\n",
    "e===>2.71<br>\n",
    "inf ==>infinity<br>\n",
    "nan ==>not a number<br>\n",
    "\n",
    "Q. Write a Python program to find area of circle\n"
   ]
  },
  {
   "cell_type": "code",
   "execution_count": 12,
   "metadata": {},
   "outputs": [
    {
     "name": "stdout",
     "output_type": "stream",
     "text": [
      "Area of Circle is : 804.247719318987\n"
     ]
    }
   ],
   "source": [
    "from math import pi\n",
    "r=16\n",
    "print(\"Area of Circle is :\",pi*r**2)"
   ]
  },
  {
   "cell_type": "code",
   "execution_count": null,
   "metadata": {},
   "outputs": [],
   "source": []
  }
 ],
 "metadata": {
  "kernelspec": {
   "display_name": "Python 3",
   "language": "python",
   "name": "python3"
  },
  "language_info": {
   "codemirror_mode": {
    "name": "ipython",
    "version": 3
   },
   "file_extension": ".py",
   "mimetype": "text/x-python",
   "name": "python",
   "nbconvert_exporter": "python",
   "pygments_lexer": "ipython3",
   "version": "3.10.9"
  },
  "orig_nbformat": 4
 },
 "nbformat": 4,
 "nbformat_minor": 2
}
